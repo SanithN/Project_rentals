{
  "nbformat": 4,
  "nbformat_minor": 0,
  "metadata": {
    "kernelspec": {
      "display_name": "Python 3",
      "language": "python",
      "name": "python3"
    },
    "language_info": {
      "codemirror_mode": {
        "name": "ipython",
        "version": 3
      },
      "file_extension": ".py",
      "mimetype": "text/x-python",
      "name": "python",
      "nbconvert_exporter": "python",
      "pygments_lexer": "ipython3",
      "version": "3.7.3"
    },
    "colab": {
      "name": "Final_Final.ipynb",
      "provenance": []
    }
  },
  "cells": [
    {
      "cell_type": "code",
      "metadata": {
        "id": "JEgMeBIxfUDN",
        "colab_type": "code",
        "colab": {}
      },
      "source": [
        "import seaborn as sns\n",
        "import matplotlib.pyplot as plt\n",
        "import pandas as pd\n",
        "import numpy as np\n",
        "from geopy.distance import geodesic\n",
        "import scipy.stats as stats\n",
        "from sklearn import metrics\n",
        "import statsmodels.api as sm"
      ],
      "execution_count": 633,
      "outputs": []
    },
    {
      "cell_type": "code",
      "metadata": {
        "id": "2YcJtI7qfcr4",
        "colab_type": "code",
        "colab": {
          "base_uri": "https://localhost:8080/",
          "height": 34
        },
        "outputId": "56200561-6dbb-4d08-c67a-ce62d6abbd20"
      },
      "source": [
        "from google.colab import drive\n",
        "drive.mount('/content/drive')"
      ],
      "execution_count": 634,
      "outputs": [
        {
          "output_type": "stream",
          "text": [
            "Drive already mounted at /content/drive; to attempt to forcibly remount, call drive.mount(\"/content/drive\", force_remount=True).\n"
          ],
          "name": "stdout"
        }
      ]
    },
    {
      "cell_type": "code",
      "metadata": {
        "id": "H2krFZZJfUDc",
        "colab_type": "code",
        "colab": {}
      },
      "source": [
        "train_df=pd.read_csv('/content/drive/My Drive/Rental_Proj/train_cab.csv')\n",
        "test_df=pd.read_csv('/content/drive/My Drive/Rental_Proj/test.csv')"
      ],
      "execution_count": 635,
      "outputs": []
    },
    {
      "cell_type": "code",
      "metadata": {
        "scrolled": true,
        "id": "TvKYSsTAfUDl",
        "colab_type": "code",
        "colab": {
          "base_uri": "https://localhost:8080/",
          "height": 204
        },
        "outputId": "05dca209-4ab9-4c51-d69a-15e4454ae8a9"
      },
      "source": [
        "train_df.head()\n"
      ],
      "execution_count": 636,
      "outputs": [
        {
          "output_type": "execute_result",
          "data": {
            "text/html": [
              "<div>\n",
              "<style scoped>\n",
              "    .dataframe tbody tr th:only-of-type {\n",
              "        vertical-align: middle;\n",
              "    }\n",
              "\n",
              "    .dataframe tbody tr th {\n",
              "        vertical-align: top;\n",
              "    }\n",
              "\n",
              "    .dataframe thead th {\n",
              "        text-align: right;\n",
              "    }\n",
              "</style>\n",
              "<table border=\"1\" class=\"dataframe\">\n",
              "  <thead>\n",
              "    <tr style=\"text-align: right;\">\n",
              "      <th></th>\n",
              "      <th>fare_amount</th>\n",
              "      <th>pickup_datetime</th>\n",
              "      <th>pickup_longitude</th>\n",
              "      <th>pickup_latitude</th>\n",
              "      <th>dropoff_longitude</th>\n",
              "      <th>dropoff_latitude</th>\n",
              "      <th>passenger_count</th>\n",
              "    </tr>\n",
              "  </thead>\n",
              "  <tbody>\n",
              "    <tr>\n",
              "      <th>0</th>\n",
              "      <td>4.5</td>\n",
              "      <td>2009-06-15 17:26:21 UTC</td>\n",
              "      <td>-73.844311</td>\n",
              "      <td>40.721319</td>\n",
              "      <td>-73.841610</td>\n",
              "      <td>40.712278</td>\n",
              "      <td>1.0</td>\n",
              "    </tr>\n",
              "    <tr>\n",
              "      <th>1</th>\n",
              "      <td>16.9</td>\n",
              "      <td>2010-01-05 16:52:16 UTC</td>\n",
              "      <td>-74.016048</td>\n",
              "      <td>40.711303</td>\n",
              "      <td>-73.979268</td>\n",
              "      <td>40.782004</td>\n",
              "      <td>1.0</td>\n",
              "    </tr>\n",
              "    <tr>\n",
              "      <th>2</th>\n",
              "      <td>5.7</td>\n",
              "      <td>2011-08-18 00:35:00 UTC</td>\n",
              "      <td>-73.982738</td>\n",
              "      <td>40.761270</td>\n",
              "      <td>-73.991242</td>\n",
              "      <td>40.750562</td>\n",
              "      <td>2.0</td>\n",
              "    </tr>\n",
              "    <tr>\n",
              "      <th>3</th>\n",
              "      <td>7.7</td>\n",
              "      <td>2012-04-21 04:30:42 UTC</td>\n",
              "      <td>-73.987130</td>\n",
              "      <td>40.733143</td>\n",
              "      <td>-73.991567</td>\n",
              "      <td>40.758092</td>\n",
              "      <td>1.0</td>\n",
              "    </tr>\n",
              "    <tr>\n",
              "      <th>4</th>\n",
              "      <td>5.3</td>\n",
              "      <td>2010-03-09 07:51:00 UTC</td>\n",
              "      <td>-73.968095</td>\n",
              "      <td>40.768008</td>\n",
              "      <td>-73.956655</td>\n",
              "      <td>40.783762</td>\n",
              "      <td>1.0</td>\n",
              "    </tr>\n",
              "  </tbody>\n",
              "</table>\n",
              "</div>"
            ],
            "text/plain": [
              "  fare_amount          pickup_datetime  ...  dropoff_latitude  passenger_count\n",
              "0         4.5  2009-06-15 17:26:21 UTC  ...         40.712278              1.0\n",
              "1        16.9  2010-01-05 16:52:16 UTC  ...         40.782004              1.0\n",
              "2         5.7  2011-08-18 00:35:00 UTC  ...         40.750562              2.0\n",
              "3         7.7  2012-04-21 04:30:42 UTC  ...         40.758092              1.0\n",
              "4         5.3  2010-03-09 07:51:00 UTC  ...         40.783762              1.0\n",
              "\n",
              "[5 rows x 7 columns]"
            ]
          },
          "metadata": {
            "tags": []
          },
          "execution_count": 636
        }
      ]
    },
    {
      "cell_type": "markdown",
      "metadata": {
        "id": "6iAMb_V1fUDw",
        "colab_type": "text"
      },
      "source": [
        "'fare_amount' in dataset is of object datatype which needs to cleaned\n",
        "and converted to float in order to use it in Algorithm.\n",
        "\n",
        "'fare_amount' and 'passenger_count' consists of null values in the Training dataset which needs to cleaned."
      ]
    },
    {
      "cell_type": "code",
      "metadata": {
        "id": "a6IziEy2fUDx",
        "colab_type": "code",
        "colab": {
          "base_uri": "https://localhost:8080/",
          "height": 629
        },
        "outputId": "3e99a494-4831-4e78-f3e7-4fe7d8456187"
      },
      "source": [
        "print(train_df.shape)\n",
        "print('-'*50)\n",
        "print(train_df.info())\n",
        "print('-'*50)\n",
        "print(train_df.describe().T)\n",
        "print('-'*50)\n",
        "print(train_df.isnull().sum())\n",
        "print('-'*50)\n"
      ],
      "execution_count": 637,
      "outputs": [
        {
          "output_type": "stream",
          "text": [
            "(16067, 7)\n",
            "--------------------------------------------------\n",
            "<class 'pandas.core.frame.DataFrame'>\n",
            "RangeIndex: 16067 entries, 0 to 16066\n",
            "Data columns (total 7 columns):\n",
            " #   Column             Non-Null Count  Dtype  \n",
            "---  ------             --------------  -----  \n",
            " 0   fare_amount        16043 non-null  object \n",
            " 1   pickup_datetime    16067 non-null  object \n",
            " 2   pickup_longitude   16067 non-null  float64\n",
            " 3   pickup_latitude    16067 non-null  float64\n",
            " 4   dropoff_longitude  16067 non-null  float64\n",
            " 5   dropoff_latitude   16067 non-null  float64\n",
            " 6   passenger_count    16012 non-null  float64\n",
            "dtypes: float64(5), object(2)\n",
            "memory usage: 878.8+ KB\n",
            "None\n",
            "--------------------------------------------------\n",
            "                     count       mean  ...        75%          max\n",
            "pickup_longitude   16067.0 -72.462787  ... -73.966838    40.766125\n",
            "pickup_latitude    16067.0  39.914725  ...  40.767381   401.083332\n",
            "dropoff_longitude  16067.0 -72.462328  ... -73.963643    40.802437\n",
            "dropoff_latitude   16067.0  39.897906  ...  40.768013    41.366138\n",
            "passenger_count    16012.0   2.625070  ...   2.000000  5345.000000\n",
            "\n",
            "[5 rows x 8 columns]\n",
            "--------------------------------------------------\n",
            "fare_amount          24\n",
            "pickup_datetime       0\n",
            "pickup_longitude      0\n",
            "pickup_latitude       0\n",
            "dropoff_longitude     0\n",
            "dropoff_latitude      0\n",
            "passenger_count      55\n",
            "dtype: int64\n",
            "--------------------------------------------------\n"
          ],
          "name": "stdout"
        }
      ]
    },
    {
      "cell_type": "code",
      "metadata": {
        "id": "Tsug7JEYfUEB",
        "colab_type": "code",
        "colab": {
          "base_uri": "https://localhost:8080/",
          "height": 595
        },
        "outputId": "28d24f59-8a1a-461c-9d41-bc6c7a7cd3e2"
      },
      "source": [
        "print(test_df.shape)\n",
        "print('-'*50)\n",
        "print(test_df.info())\n",
        "print('-'*50)\n",
        "print(test_df.describe().T)\n",
        "print('-'*50)\n",
        "print(test_df.isnull().sum())\n",
        "print('-'*50)\n"
      ],
      "execution_count": 638,
      "outputs": [
        {
          "output_type": "stream",
          "text": [
            "(9914, 6)\n",
            "--------------------------------------------------\n",
            "<class 'pandas.core.frame.DataFrame'>\n",
            "RangeIndex: 9914 entries, 0 to 9913\n",
            "Data columns (total 6 columns):\n",
            " #   Column             Non-Null Count  Dtype  \n",
            "---  ------             --------------  -----  \n",
            " 0   pickup_datetime    9914 non-null   object \n",
            " 1   pickup_longitude   9914 non-null   float64\n",
            " 2   pickup_latitude    9914 non-null   float64\n",
            " 3   dropoff_longitude  9914 non-null   float64\n",
            " 4   dropoff_latitude   9914 non-null   float64\n",
            " 5   passenger_count    9914 non-null   int64  \n",
            "dtypes: float64(4), int64(1), object(1)\n",
            "memory usage: 464.8+ KB\n",
            "None\n",
            "--------------------------------------------------\n",
            "                    count       mean       std  ...        50%        75%        max\n",
            "pickup_longitude   9914.0 -73.974722  0.042774  ... -73.982326 -73.968013 -72.986532\n",
            "pickup_latitude    9914.0  40.751041  0.033541  ...  40.753051  40.767113  41.709555\n",
            "dropoff_longitude  9914.0 -73.973657  0.039072  ... -73.980015 -73.964059 -72.990963\n",
            "dropoff_latitude   9914.0  40.751743  0.035435  ...  40.754065  40.768757  41.696683\n",
            "passenger_count    9914.0   1.671273  1.278747  ...   1.000000   2.000000   6.000000\n",
            "\n",
            "[5 rows x 8 columns]\n",
            "--------------------------------------------------\n",
            "pickup_datetime      0\n",
            "pickup_longitude     0\n",
            "pickup_latitude      0\n",
            "dropoff_longitude    0\n",
            "dropoff_latitude     0\n",
            "passenger_count      0\n",
            "dtype: int64\n",
            "--------------------------------------------------\n"
          ],
          "name": "stdout"
        }
      ]
    },
    {
      "cell_type": "markdown",
      "metadata": {
        "id": "i4JNy-y5fUEN",
        "colab_type": "text"
      },
      "source": [
        "Cleaning Of Dataset"
      ]
    },
    {
      "cell_type": "markdown",
      "metadata": {
        "id": "Fc_afYxbfUER",
        "colab_type": "text"
      },
      "source": [
        "From Google Search its evident that the latitude and longitude is of New York City Map\n",
        "and the coordinates lies mostly between (40,42) and (-75,-72) respectively thereby deleting rest of outliers."
      ]
    },
    {
      "cell_type": "code",
      "metadata": {
        "id": "cAEcHmAffUET",
        "colab_type": "code",
        "colab": {}
      },
      "source": [
        "def coordinate_cleaning(df):\n",
        "    \n",
        "    df[['pickup_datetime','pickup_longitude','pickup_latitude','dropoff_longitude','dropoff_latitude']] = df[['pickup_datetime','pickup_longitude','pickup_latitude','dropoff_longitude','dropoff_latitude']].replace(0, np.nan)\n",
        "    df = df.dropna(subset=['pickup_datetime','pickup_longitude', 'pickup_latitude','dropoff_longitude','dropoff_latitude'])\n",
        "\n",
        "    df = df.loc[df['pickup_latitude'].between(40, 42)]\n",
        "    df = df.loc[df['pickup_longitude'].between(-75, -72)]\n",
        "    df = df.loc[df['dropoff_latitude'].between(40, 42)]\n",
        "    df = df.loc[df['dropoff_longitude'].between(-75, -72)]\n",
        "\n",
        "\n",
        "    df['pickup']= df[['pickup_longitude', 'pickup_latitude']].values.tolist()\n",
        "    df['dropoff']= df[['dropoff_longitude', 'dropoff_latitude']].values.tolist()\n",
        "    \n",
        "    return df"
      ],
      "execution_count": 639,
      "outputs": []
    },
    {
      "cell_type": "code",
      "metadata": {
        "id": "EPthK7i_fUEt",
        "colab_type": "code",
        "colab": {}
      },
      "source": [
        "train_df = coordinate_cleaning(train_df)\n",
        "test_df = coordinate_cleaning(test_df)"
      ],
      "execution_count": 641,
      "outputs": []
    },
    {
      "cell_type": "code",
      "metadata": {
        "id": "i5BWDYtQfUE0",
        "colab_type": "code",
        "colab": {}
      },
      "source": [
        "#Cleaning of fare_amount and converting it to float data type \n",
        "\n",
        "train_df['fare_amount'] = train_df['fare_amount'].str.extract('(\\d*\\.?\\d*)', expand=False)\n",
        "train_df['fare_amount'] = train_df['fare_amount'].str.replace(r'\\s', '')\n",
        "\n",
        "train_df['fare_amount']=train_df['fare_amount'].fillna('0')\n",
        "train_df['fare_amount'] = train_df['fare_amount'].apply (pd.to_numeric)\n",
        "train_df['fare_amount']= train_df['fare_amount'].replace(0, np.nan)\n",
        "train_df.dropna(subset=['fare_amount'],inplace= True, axis=0)\n"
      ],
      "execution_count": 642,
      "outputs": []
    },
    {
      "cell_type": "code",
      "metadata": {
        "id": "sMQ6shHefUE7",
        "colab_type": "code",
        "colab": {}
      },
      "source": [
        "#Deleting records with 'passenger_count' as nan\n",
        "train_df.dropna(subset=['passenger_count'],inplace = True, axis=0)"
      ],
      "execution_count": 643,
      "outputs": []
    },
    {
      "cell_type": "code",
      "metadata": {
        "id": "zZGHOiL7fUFA",
        "colab_type": "code",
        "colab": {
          "base_uri": "https://localhost:8080/",
          "height": 289
        },
        "outputId": "b1ef9af5-e7ce-438f-84c0-3969a88cc850"
      },
      "source": [
        "train_df.info()"
      ],
      "execution_count": 644,
      "outputs": [
        {
          "output_type": "stream",
          "text": [
            "<class 'pandas.core.frame.DataFrame'>\n",
            "Int64Index: 15641 entries, 0 to 16065\n",
            "Data columns (total 9 columns):\n",
            " #   Column             Non-Null Count  Dtype  \n",
            "---  ------             --------------  -----  \n",
            " 0   fare_amount        15641 non-null  float64\n",
            " 1   pickup_datetime    15641 non-null  object \n",
            " 2   pickup_longitude   15641 non-null  float64\n",
            " 3   pickup_latitude    15641 non-null  float64\n",
            " 4   dropoff_longitude  15641 non-null  float64\n",
            " 5   dropoff_latitude   15641 non-null  float64\n",
            " 6   passenger_count    15641 non-null  float64\n",
            " 7   pickup             15641 non-null  object \n",
            " 8   dropoff            15641 non-null  object \n",
            "dtypes: float64(6), object(3)\n",
            "memory usage: 1.2+ MB\n"
          ],
          "name": "stdout"
        }
      ]
    },
    {
      "cell_type": "code",
      "metadata": {
        "id": "eu8VjPZnfUFG",
        "colab_type": "code",
        "colab": {}
      },
      "source": [
        "#Dropping records with 'pickup_datetime' as nan\n",
        "train_df.dropna(subset=['pickup_datetime'],inplace=True,axis=0)"
      ],
      "execution_count": 645,
      "outputs": []
    },
    {
      "cell_type": "markdown",
      "metadata": {
        "id": "Huum8LVtfUFL",
        "colab_type": "text"
      },
      "source": [
        "Feature Engineering"
      ]
    },
    {
      "cell_type": "markdown",
      "metadata": {
        "id": "iKLg3pUUfUFM",
        "colab_type": "text"
      },
      "source": [
        "pickup and dropoff cordinate can be feature engineered in order to calculate the Distance travelled by Rental.\n",
        "Using Geopy library to calculate the geodesic distance between two points"
      ]
    },
    {
      "cell_type": "code",
      "metadata": {
        "id": "fUGXCwn4fUFN",
        "colab_type": "code",
        "colab": {}
      },
      "source": [
        "def calculateDist(cor1,cor2):\n",
        "    d=geodesic(tuple(cor1),tuple(cor2)).kilometers\n",
        "    \n",
        "    \n",
        "    return(d)"
      ],
      "execution_count": 646,
      "outputs": []
    },
    {
      "cell_type": "code",
      "metadata": {
        "id": "lToUoiZkfUFR",
        "colab_type": "code",
        "colab": {}
      },
      "source": [
        "train_df['Distance']=train_df.apply(lambda row : calculateDist(row['pickup'], row['dropoff']), axis = 1)\n",
        "test_df['Distance']=test_df.apply(lambda row : calculateDist(row['pickup'], row['dropoff']), axis = 1)\n"
      ],
      "execution_count": 647,
      "outputs": []
    },
    {
      "cell_type": "code",
      "metadata": {
        "id": "AIFezxOHfUFY",
        "colab_type": "code",
        "colab": {
          "base_uri": "https://localhost:8080/",
          "height": 306
        },
        "outputId": "8e710dc0-1665-470e-8445-47cb76d17227"
      },
      "source": [
        "train_df.info()"
      ],
      "execution_count": 648,
      "outputs": [
        {
          "output_type": "stream",
          "text": [
            "<class 'pandas.core.frame.DataFrame'>\n",
            "Int64Index: 15641 entries, 0 to 16065\n",
            "Data columns (total 10 columns):\n",
            " #   Column             Non-Null Count  Dtype  \n",
            "---  ------             --------------  -----  \n",
            " 0   fare_amount        15641 non-null  float64\n",
            " 1   pickup_datetime    15641 non-null  object \n",
            " 2   pickup_longitude   15641 non-null  float64\n",
            " 3   pickup_latitude    15641 non-null  float64\n",
            " 4   dropoff_longitude  15641 non-null  float64\n",
            " 5   dropoff_latitude   15641 non-null  float64\n",
            " 6   passenger_count    15641 non-null  float64\n",
            " 7   pickup             15641 non-null  object \n",
            " 8   dropoff            15641 non-null  object \n",
            " 9   Distance           15641 non-null  float64\n",
            "dtypes: float64(7), object(3)\n",
            "memory usage: 1.3+ MB\n"
          ],
          "name": "stdout"
        }
      ]
    },
    {
      "cell_type": "code",
      "metadata": {
        "id": "FLiWBhXPfUFd",
        "colab_type": "code",
        "colab": {}
      },
      "source": [
        "# Feature Engineering 'pickup_datetime' to extract year,month,day,weekday and hour.\n",
        "def datetime_info(data):\n",
        "    \n",
        "    data['pickup_datetime']= data['pickup_datetime'].str.replace('UTC','')\n",
        "    data['pickup_datetime']=pd.to_datetime(data['pickup_datetime'],errors='coerce')\n",
        "\n",
        "\n",
        "    data['Year']=data['pickup_datetime'].dt.year\n",
        "    data['Month']=data['pickup_datetime'].dt.month\n",
        "    data['Day']=data['pickup_datetime'].dt.day\n",
        "    data['Hour']=data['pickup_datetime'].dt.hour\n",
        "    data['weekday'] = data.pickup_datetime.dt.weekday\n",
        "    \n",
        "    \n",
        "    \n",
        "    return data"
      ],
      "execution_count": 649,
      "outputs": []
    },
    {
      "cell_type": "code",
      "metadata": {
        "id": "TwypxFeLfUFi",
        "colab_type": "code",
        "colab": {}
      },
      "source": [
        "train_df = datetime_info(train_df)\n",
        "test_df = datetime_info(test_df)"
      ],
      "execution_count": 650,
      "outputs": []
    },
    {
      "cell_type": "code",
      "metadata": {
        "id": "yKxIvcLNfUFo",
        "colab_type": "code",
        "colab": {}
      },
      "source": [
        "#Drop all nan values in 'pickup_datetime'\n",
        "train_df.dropna(subset=['pickup_datetime'],inplace=True,axis=0)"
      ],
      "execution_count": 651,
      "outputs": []
    },
    {
      "cell_type": "markdown",
      "metadata": {
        "id": "_F7xjGPnAAup",
        "colab_type": "text"
      },
      "source": [
        "Encoding weekday,time as categorical gives the model more flexibility to apply to the linear model "
      ]
    },
    {
      "cell_type": "code",
      "metadata": {
        "id": "V4RVEy1Boro0",
        "colab_type": "code",
        "colab": {}
      },
      "source": [
        "def get_time_labels(x):\n",
        "    if x>=3 and x<=7:\n",
        "        return 'EARLY_MORNING'\n",
        "    elif x>=8 and x<=11:\n",
        "        return 'MORNING'\n",
        "    elif x>=12 and x<=17:\n",
        "        return 'AFTERNOON'\n",
        "    elif x>=18 and x<=22:\n",
        "        return 'EVENING'\n",
        "    elif x==23 or x==0 or (x>=1 and x<=2):\n",
        "        return 'LATE_EVENING'\n",
        "    else:\n",
        "        raise ValueError('Please input values between 0 to 23')"
      ],
      "execution_count": 653,
      "outputs": []
    },
    {
      "cell_type": "code",
      "metadata": {
        "id": "LQIh8P651UI5",
        "colab_type": "code",
        "colab": {}
      },
      "source": [
        "def get_each_day_labels(x):\n",
        "    if x>=1 and x<=7:\n",
        "        return '1st_Week'\n",
        "    elif x>=8 and x<=14:\n",
        "        return '2nd_Week'\n",
        "    elif x>=15 and x<=21:\n",
        "        return '3rd_Week'\n",
        "    elif x>=22 and x<=31:\n",
        "        return '4th_Week'\n",
        "    else:\n",
        "        raise ValueError('Please input values between 0 to 31')"
      ],
      "execution_count": 654,
      "outputs": []
    },
    {
      "cell_type": "code",
      "metadata": {
        "id": "s_oGzgY0bdZz",
        "colab_type": "code",
        "colab": {}
      },
      "source": [
        "df=[train_df , test_df]\n",
        "for i in df:\n",
        "  \n",
        "  i['Day_Time']=i.apply(lambda row:get_time_labels(row['Hour']),axis=1)\n",
        "  \n",
        "  i['Week_Number']=i.apply(lambda row:get_each_day_labels(row['Day']),axis=1)\n"
      ],
      "execution_count": 655,
      "outputs": []
    },
    {
      "cell_type": "code",
      "metadata": {
        "id": "JtbhbXt9jULv",
        "colab_type": "code",
        "colab": {
          "base_uri": "https://localhost:8080/",
          "height": 408
        },
        "outputId": "fc4d33a5-f03c-431d-913e-56a8f5b86084"
      },
      "source": [
        "test_df.info()"
      ],
      "execution_count": 658,
      "outputs": [
        {
          "output_type": "stream",
          "text": [
            "<class 'pandas.core.frame.DataFrame'>\n",
            "Int64Index: 9914 entries, 0 to 9913\n",
            "Data columns (total 16 columns):\n",
            " #   Column             Non-Null Count  Dtype         \n",
            "---  ------             --------------  -----         \n",
            " 0   pickup_datetime    9914 non-null   datetime64[ns]\n",
            " 1   pickup_longitude   9914 non-null   float64       \n",
            " 2   pickup_latitude    9914 non-null   float64       \n",
            " 3   dropoff_longitude  9914 non-null   float64       \n",
            " 4   dropoff_latitude   9914 non-null   float64       \n",
            " 5   passenger_count    9914 non-null   int64         \n",
            " 6   pickup             9914 non-null   object        \n",
            " 7   dropoff            9914 non-null   object        \n",
            " 8   Distance           9914 non-null   float64       \n",
            " 9   Year               9914 non-null   int64         \n",
            " 10  Month              9914 non-null   int64         \n",
            " 11  Day                9914 non-null   int64         \n",
            " 12  Hour               9914 non-null   int64         \n",
            " 13  weekday            9914 non-null   int64         \n",
            " 14  Day_Time           9914 non-null   object        \n",
            " 15  Week_Number        9914 non-null   object        \n",
            "dtypes: datetime64[ns](1), float64(5), int64(6), object(4)\n",
            "memory usage: 1.3+ MB\n"
          ],
          "name": "stdout"
        }
      ]
    },
    {
      "cell_type": "code",
      "metadata": {
        "id": "NvEcvAuLjTwE",
        "colab_type": "code",
        "colab": {}
      },
      "source": [
        ""
      ],
      "execution_count": 658,
      "outputs": []
    },
    {
      "cell_type": "markdown",
      "metadata": {
        "id": "6GEutKYHfUFt",
        "colab_type": "text"
      },
      "source": [
        "Examining the Target and Dependent Variable"
      ]
    },
    {
      "cell_type": "markdown",
      "metadata": {
        "id": "Bc7TpKYtfUFt",
        "colab_type": "raw"
      },
      "source": [
        "Its seen that Trip Fare is very unevenly Distributed with many ouliers towards 50000"
      ]
    },
    {
      "cell_type": "code",
      "metadata": {
        "id": "MVAEX-XFfUFu",
        "colab_type": "code",
        "colab": {
          "base_uri": "https://localhost:8080/",
          "height": 353
        },
        "outputId": "264eeb1e-461f-4bb7-c55d-3a96db193527"
      },
      "source": [
        "#Plot shows a large number of outliers\n",
        "plt.figure(figsize=(8,5))\n",
        "sns.kdeplot(train_df['fare_amount']).set_title(\"Distribution of Trip Fare\")"
      ],
      "execution_count": 659,
      "outputs": [
        {
          "output_type": "execute_result",
          "data": {
            "text/plain": [
              "Text(0.5, 1.0, 'Distribution of Trip Fare')"
            ]
          },
          "metadata": {
            "tags": []
          },
          "execution_count": 659
        },
        {
          "output_type": "display_data",
          "data": {
            "image/png": "[encoded data removed]",
            "text/plain": [
              "<Figure size 576x360 with 1 Axes>"
            ]
          },
          "metadata": {
            "tags": [],
            "needs_background": "light"
          }
        }
      ]
    },
    {
      "cell_type": "markdown",
      "metadata": {
        "id": "8G0RAg_IfUFz",
        "colab_type": "raw"
      },
      "source": [
        "Distance variable also has many ouliers present in the data which need to cleaned.\n"
      ]
    },
    {
      "cell_type": "code",
      "metadata": {
        "id": "1E91hIP2fUF0",
        "colab_type": "code",
        "colab": {
          "base_uri": "https://localhost:8080/",
          "height": 353
        },
        "outputId": "4db5f896-40ca-47a5-d64a-ac0e2a60e516"
      },
      "source": [
        "plt.figure(figsize=(8,5))\n",
        "sns.kdeplot(train_df['Distance']).set_title(\"Distribution of Distance\")"
      ],
      "execution_count": 660,
      "outputs": [
        {
          "output_type": "execute_result",
          "data": {
            "text/plain": [
              "Text(0.5, 1.0, 'Distribution of Distance')"
            ]
          },
          "metadata": {
            "tags": []
          },
          "execution_count": 660
        },
        {
          "output_type": "display_data",
          "data": {
            "image/png": "[encoded data removed]",
            "text/plain": [
              "<Figure size 576x360 with 1 Axes>"
            ]
          },
          "metadata": {
            "tags": [],
            "needs_background": "light"
          }
        }
      ]
    },
    {
      "cell_type": "code",
      "metadata": {
        "id": "TfVXOqqTfUF6",
        "colab_type": "code",
        "colab": {}
      },
      "source": [
        ""
      ],
      "execution_count": 660,
      "outputs": []
    },
    {
      "cell_type": "code",
      "metadata": {
        "id": "M9SlmlPxfUF_",
        "colab_type": "code",
        "colab": {
          "base_uri": "https://localhost:8080/",
          "height": 367
        },
        "outputId": "246948a6-e8a2-492d-e0b8-94fa2f196526"
      },
      "source": [
        "plt.figure(figsize=(8,5))\n",
        "sns.boxplot(x = train_df['Distance']).set_title(\"Distribution of Distance count\")"
      ],
      "execution_count": 661,
      "outputs": [
        {
          "output_type": "execute_result",
          "data": {
            "text/plain": [
              "Text(0.5, 1.0, 'Distribution of Distance count')"
            ]
          },
          "metadata": {
            "tags": []
          },
          "execution_count": 661
        },
        {
          "output_type": "display_data",
          "data": {
            "image/png": "[encoded data removed]",
            "text/plain": [
              "<Figure size 576x360 with 1 Axes>"
            ]
          },
          "metadata": {
            "tags": [],
            "needs_background": "light"
          }
        }
      ]
    },
    {
      "cell_type": "code",
      "metadata": {
        "id": "L2SZnkmNfUGD",
        "colab_type": "code",
        "colab": {
          "base_uri": "https://localhost:8080/",
          "height": 368
        },
        "outputId": "c5aef216-1c81-4937-fb3e-f940c782849c"
      },
      "source": [
        "plt.figure(figsize=(8,5))\n",
        "sns.boxplot(x = train_df['fare_amount']).set_title(\"Distribution of Fare Amount\")"
      ],
      "execution_count": 662,
      "outputs": [
        {
          "output_type": "execute_result",
          "data": {
            "text/plain": [
              "Text(0.5, 1.0, 'Distribution of Fare Amount')"
            ]
          },
          "metadata": {
            "tags": []
          },
          "execution_count": 662
        },
        {
          "output_type": "display_data",
          "data": {
            "image/png": "[encoded data removed]",
            "text/plain": [
              "<Figure size 576x360 with 1 Axes>"
            ]
          },
          "metadata": {
            "tags": [],
            "needs_background": "light"
          }
        }
      ]
    },
    {
      "cell_type": "markdown",
      "metadata": {
        "id": "LwrDmfUGubX7",
        "colab_type": "text"
      },
      "source": [
        "Using Zscore we detect outliers in 'fare_amount' and 'Distance' and remove them."
      ]
    },
    {
      "cell_type": "code",
      "metadata": {
        "id": "W944gD-MfUGI",
        "colab_type": "code",
        "colab": {}
      },
      "source": [
        "train_df.drop(train_df[abs((train_df['Distance'] - train_df['Distance'].mean())/train_df['Distance'].std(ddof=0))>3].index, inplace= True)\n",
        "test_df.drop(test_df[abs((test_df['Distance'] - test_df['Distance'].mean())/test_df['Distance'].std(ddof=0))>3].index, inplace= True)"
      ],
      "execution_count": 663,
      "outputs": []
    },
    {
      "cell_type": "code",
      "metadata": {
        "id": "YzEPPOFHfUGN",
        "colab_type": "code",
        "colab": {}
      },
      "source": [
        "\n",
        "train_df.drop(train_df[abs((train_df['fare_amount'] - train_df['fare_amount'].mean())/train_df['fare_amount'].std(ddof=0))>3].index, inplace= True)\n"
      ],
      "execution_count": 664,
      "outputs": []
    },
    {
      "cell_type": "code",
      "metadata": {
        "id": "UMO3HrUofUGU",
        "colab_type": "code",
        "colab": {
          "base_uri": "https://localhost:8080/",
          "height": 367
        },
        "outputId": "0d58236f-0e66-456e-a992-b693e75854d8"
      },
      "source": [
        "plt.figure(figsize=(8,5))\n",
        "sns.boxplot(x = train_df['Distance']).set_title(\"Distribution of Distance count\")"
      ],
      "execution_count": 665,
      "outputs": [
        {
          "output_type": "execute_result",
          "data": {
            "text/plain": [
              "Text(0.5, 1.0, 'Distribution of Distance count')"
            ]
          },
          "metadata": {
            "tags": []
          },
          "execution_count": 665
        },
        {
          "output_type": "display_data",
          "data": {
            "image/png": "[encoded data removed]",
            "text/plain": [
              "<Figure size 576x360 with 1 Axes>"
            ]
          },
          "metadata": {
            "tags": [],
            "needs_background": "light"
          }
        }
      ]
    },
    {
      "cell_type": "code",
      "metadata": {
        "id": "zuFWQ_aIfUGa",
        "colab_type": "code",
        "colab": {
          "base_uri": "https://localhost:8080/",
          "height": 368
        },
        "outputId": "e322ae81-96b8-4190-8180-b6753d57ff69"
      },
      "source": [
        "plt.figure(figsize=(8,5))\n",
        "sns.boxplot(x = train_df['fare_amount']).set_title(\"Distribution of Fare Amount\")"
      ],
      "execution_count": 666,
      "outputs": [
        {
          "output_type": "execute_result",
          "data": {
            "text/plain": [
              "Text(0.5, 1.0, 'Distribution of Fare Amount')"
            ]
          },
          "metadata": {
            "tags": []
          },
          "execution_count": 666
        },
        {
          "output_type": "display_data",
          "data": {
            "image/png": "[encoded data removed]",
            "text/plain": [
              "<Figure size 576x360 with 1 Axes>"
            ]
          },
          "metadata": {
            "tags": [],
            "needs_background": "light"
          }
        }
      ]
    },
    {
      "cell_type": "code",
      "metadata": {
        "id": "A03a3s3FvfM-",
        "colab_type": "code",
        "colab": {}
      },
      "source": [
        "#Since the distance of fare amount greater than 400  is quite less and is very much inappropraite and is vedry much exceptional outlier\n",
        "train_df = train_df.loc[train_df['fare_amount']< 400]"
      ],
      "execution_count": 667,
      "outputs": []
    },
    {
      "cell_type": "code",
      "metadata": {
        "id": "r9x4q7QgfUGe",
        "colab_type": "code",
        "colab": {}
      },
      "source": [
        "#It is not possible for passenger to be greater than 6\n",
        "train_df = train_df.loc[train_df['passenger_count']<= 6]"
      ],
      "execution_count": 668,
      "outputs": []
    },
    {
      "cell_type": "code",
      "metadata": {
        "id": "g-r3u4fXfUGi",
        "colab_type": "code",
        "colab": {
          "base_uri": "https://localhost:8080/",
          "height": 459
        },
        "outputId": "2c1a3017-d40d-4295-c4e5-99a3829c3e64"
      },
      "source": [
        "#Single passengers travel the most in the rentals\n",
        "plt.figure(figsize=(15,7))\n",
        "plt.hist(train_df['passenger_count'])\n",
        "plt.xlabel('No. of Passengers')\n",
        "plt.ylabel('Frequency')"
      ],
      "execution_count": 669,
      "outputs": [
        {
          "output_type": "execute_result",
          "data": {
            "text/plain": [
              "Text(0, 0.5, 'Frequency')"
            ]
          },
          "metadata": {
            "tags": []
          },
          "execution_count": 669
        },
        {
          "output_type": "display_data",
          "data": {
            "image/png": "[encoded data removed]",
            "text/plain": [
              "<Figure size 1080x504 with 1 Axes>"
            ]
          },
          "metadata": {
            "tags": [],
            "needs_background": "light"
          }
        }
      ]
    },
    {
      "cell_type": "markdown",
      "metadata": {
        "id": "vssoqQa5fUGn",
        "colab_type": "raw"
      },
      "source": [
        "Fare price and frequency is seen High for single passengers"
      ]
    },
    {
      "cell_type": "code",
      "metadata": {
        "id": "X6dKcOg-fUGo",
        "colab_type": "code",
        "colab": {
          "base_uri": "https://localhost:8080/",
          "height": 459
        },
        "outputId": "193acf1f-c37c-4d5c-e362-d69d93d0d98c"
      },
      "source": [
        "#Fare are seen higher for single passengers\n",
        "plt.figure(figsize=(15,7))\n",
        "plt.scatter(x=train_df['passenger_count'], y=train_df['fare_amount'])\n",
        "plt.xlabel('No. of Passengers')\n",
        "plt.ylabel('Fare')"
      ],
      "execution_count": 670,
      "outputs": [
        {
          "output_type": "execute_result",
          "data": {
            "text/plain": [
              "Text(0, 0.5, 'Fare')"
            ]
          },
          "metadata": {
            "tags": []
          },
          "execution_count": 670
        },
        {
          "output_type": "display_data",
          "data": {
            "image/png": "[encoded data removed]",
            "text/plain": [
              "<Figure size 1080x504 with 1 Axes>"
            ]
          },
          "metadata": {
            "tags": [],
            "needs_background": "light"
          }
        }
      ]
    },
    {
      "cell_type": "code",
      "metadata": {
        "id": "ZMu7cUIH25Z7",
        "colab_type": "code",
        "colab": {
          "base_uri": "https://localhost:8080/",
          "height": 460
        },
        "outputId": "b1de00e2-babd-4c21-83cb-73a54e495221"
      },
      "source": [
        "plt.figure(figsize=(15,7))\n",
        "plt.hist(train_df['Week_Number'])\n",
        "plt.xlabel('No. of Passengers')\n",
        "plt.ylabel('Frequency')"
      ],
      "execution_count": 671,
      "outputs": [
        {
          "output_type": "execute_result",
          "data": {
            "text/plain": [
              "Text(0, 0.5, 'Frequency')"
            ]
          },
          "metadata": {
            "tags": []
          },
          "execution_count": 671
        },
        {
          "output_type": "display_data",
          "data": {
            "image/png": "[encoded data removed]",
            "text/plain": [
              "<Figure size 1080x504 with 1 Axes>"
            ]
          },
          "metadata": {
            "tags": [],
            "needs_background": "light"
          }
        }
      ]
    },
    {
      "cell_type": "code",
      "metadata": {
        "id": "jyD9A2pU3mo4",
        "colab_type": "code",
        "colab": {
          "base_uri": "https://localhost:8080/",
          "height": 460
        },
        "outputId": "df57989a-f70c-4e5a-a168-71ed1df2df2c"
      },
      "source": [
        "plt.figure(figsize=(15,7))\n",
        "plt.scatter(x=train_df['Week_Number'], y=train_df['fare_amount'])\n",
        "plt.xlabel('Week Number')\n",
        "plt.ylabel('Fare')"
      ],
      "execution_count": 672,
      "outputs": [
        {
          "output_type": "execute_result",
          "data": {
            "text/plain": [
              "Text(0, 0.5, 'Fare')"
            ]
          },
          "metadata": {
            "tags": []
          },
          "execution_count": 672
        },
        {
          "output_type": "display_data",
          "data": {
            "image/png": "[encoded data removed]",
            "text/plain": [
              "<Figure size 1080x504 with 1 Axes>"
            ]
          },
          "metadata": {
            "tags": [],
            "needs_background": "light"
          }
        }
      ]
    },
    {
      "cell_type": "code",
      "metadata": {
        "id": "GCXfA-V-fUGs",
        "colab_type": "code",
        "colab": {
          "base_uri": "https://localhost:8080/",
          "height": 459
        },
        "outputId": "d98265c1-8f84-4dc9-a66a-73b519f2edbd"
      },
      "source": [
        "# Its seen that frequency is almost same throughout the month except for 31st as 31st comes only 7 times in a year\n",
        "plt.figure(figsize=(15,7))\n",
        "plt.hist(train_df['Day'],bins=100)\n",
        "plt.xlabel('Days')\n",
        "plt.ylabel('Frequency')"
      ],
      "execution_count": 673,
      "outputs": [
        {
          "output_type": "execute_result",
          "data": {
            "text/plain": [
              "Text(0, 0.5, 'Frequency')"
            ]
          },
          "metadata": {
            "tags": []
          },
          "execution_count": 673
        },
        {
          "output_type": "display_data",
          "data": {
            "image/png": "[encoded data removed]",
            "text/plain": [
              "<Figure size 1080x504 with 1 Axes>"
            ]
          },
          "metadata": {
            "tags": [],
            "needs_background": "light"
          }
        }
      ]
    },
    {
      "cell_type": "code",
      "metadata": {
        "id": "lPs6XZgZfUGy",
        "colab_type": "code",
        "colab": {
          "base_uri": "https://localhost:8080/",
          "height": 459
        },
        "outputId": "c32c4b3c-9b24-49bf-a2dd-6353457e3ae8"
      },
      "source": [
        "#fare is same throughout the month\n",
        "plt.figure(figsize=(15,7))\n",
        "plt.scatter(x=train_df['Day'], y=train_df['fare_amount'])\n",
        "plt.xlabel('Day')\n",
        "plt.ylabel('Fare')"
      ],
      "execution_count": 674,
      "outputs": [
        {
          "output_type": "execute_result",
          "data": {
            "text/plain": [
              "Text(0, 0.5, 'Fare')"
            ]
          },
          "metadata": {
            "tags": []
          },
          "execution_count": 674
        },
        {
          "output_type": "display_data",
          "data": {
            "image/png": "[encoded data removed]",
            "text/plain": [
              "<Figure size 1080x504 with 1 Axes>"
            ]
          },
          "metadata": {
            "tags": [],
            "needs_background": "light"
          }
        }
      ]
    },
    {
      "cell_type": "code",
      "metadata": {
        "id": "tpxMdfXlfUG5",
        "colab_type": "code",
        "colab": {
          "base_uri": "https://localhost:8080/",
          "height": 462
        },
        "outputId": "0a4dc6d3-08a4-40d2-ae09-a5244c338f16"
      },
      "source": [
        "plt.figure(figsize=(15,7))\n",
        "plt.hist(train_df['Hour'], bins=100)\n",
        "plt.xlabel('Hour')\n",
        "plt.ylabel('Frequency')"
      ],
      "execution_count": 675,
      "outputs": [
        {
          "output_type": "execute_result",
          "data": {
            "text/plain": [
              "Text(0, 0.5, 'Frequency')"
            ]
          },
          "metadata": {
            "tags": []
          },
          "execution_count": 675
        },
        {
          "output_type": "display_data",
          "data": {
            "image/png": "[encoded data removed]",
            "text/plain": [
              "<Figure size 1080x504 with 1 Axes>"
            ]
          },
          "metadata": {
            "tags": [],
            "needs_background": "light"
          }
        }
      ]
    },
    {
      "cell_type": "code",
      "metadata": {
        "id": "Oi3Ze1GkfUHA",
        "colab_type": "code",
        "colab": {
          "base_uri": "https://localhost:8080/",
          "height": 459
        },
        "outputId": "29c4230d-ab5c-464a-f2ce-598289035056"
      },
      "source": [
        "plt.figure(figsize=(15,7))\n",
        "plt.scatter(x=train_df['Hour'], y=train_df['fare_amount'])\n",
        "plt.xlabel('Hour')\n",
        "plt.ylabel('Fare')"
      ],
      "execution_count": 676,
      "outputs": [
        {
          "output_type": "execute_result",
          "data": {
            "text/plain": [
              "Text(0, 0.5, 'Fare')"
            ]
          },
          "metadata": {
            "tags": []
          },
          "execution_count": 676
        },
        {
          "output_type": "display_data",
          "data": {
            "image/png": "[encoded data removed]",
            "text/plain": [
              "<Figure size 1080x504 with 1 Axes>"
            ]
          },
          "metadata": {
            "tags": [],
            "needs_background": "light"
          }
        }
      ]
    },
    {
      "cell_type": "code",
      "metadata": {
        "id": "61_mluUMlOP_",
        "colab_type": "code",
        "colab": {
          "base_uri": "https://localhost:8080/",
          "height": 461
        },
        "outputId": "d277b955-bb62-4da1-af56-1e7e2e417184"
      },
      "source": [
        "# the rides are more frequent in afternoon and evening\n",
        "plt.figure(figsize=(15,7))\n",
        "plt.hist(train_df['Day_Time'], bins=100)\n",
        "plt.xlabel('Day_Time')\n",
        "plt.ylabel('Frequency')"
      ],
      "execution_count": 677,
      "outputs": [
        {
          "output_type": "execute_result",
          "data": {
            "text/plain": [
              "Text(0, 0.5, 'Frequency')"
            ]
          },
          "metadata": {
            "tags": []
          },
          "execution_count": 677
        },
        {
          "output_type": "display_data",
          "data": {
            "image/png": "[encoded data removed]",
            "text/plain": [
              "<Figure size 1080x504 with 1 Axes>"
            ]
          },
          "metadata": {
            "tags": [],
            "needs_background": "light"
          }
        }
      ]
    },
    {
      "cell_type": "code",
      "metadata": {
        "id": "OAOlfzeFlAfO",
        "colab_type": "code",
        "colab": {
          "base_uri": "https://localhost:8080/",
          "height": 461
        },
        "outputId": "0ec2ea72-e0cb-4162-8856-7e85e61f5d21"
      },
      "source": [
        "plt.figure(figsize=(15,7))\n",
        "plt.scatter(x=train_df['Day_Time'], y=train_df['fare_amount'])\n",
        "plt.xlabel('Day_Time')\n",
        "plt.ylabel('Fare')"
      ],
      "execution_count": 678,
      "outputs": [
        {
          "output_type": "execute_result",
          "data": {
            "text/plain": [
              "Text(0, 0.5, 'Fare')"
            ]
          },
          "metadata": {
            "tags": []
          },
          "execution_count": 678
        },
        {
          "output_type": "display_data",
          "data": {
            "image/png": "[encoded data removed]",
            "text/plain": [
              "<Figure size 1080x504 with 1 Axes>"
            ]
          },
          "metadata": {
            "tags": [],
            "needs_background": "light"
          }
        }
      ]
    },
    {
      "cell_type": "code",
      "metadata": {
        "id": "BIcZ2R00fUHI",
        "colab_type": "code",
        "colab": {
          "base_uri": "https://localhost:8080/",
          "height": 459
        },
        "outputId": "5c637317-c3a7-4978-bfe9-8fea78c076fe"
      },
      "source": [
        "#Rides are higher in the weekend\n",
        "plt.figure(figsize=(15,7))\n",
        "plt.hist(train_df['weekday'], bins=100)\n",
        "plt.xlabel('Day of Week')\n",
        "plt.ylabel('Frequency')"
      ],
      "execution_count": 679,
      "outputs": [
        {
          "output_type": "execute_result",
          "data": {
            "text/plain": [
              "Text(0, 0.5, 'Frequency')"
            ]
          },
          "metadata": {
            "tags": []
          },
          "execution_count": 679
        },
        {
          "output_type": "display_data",
          "data": {
            "image/png": "[encoded data removed]",
            "text/plain": [
              "<Figure size 1080x504 with 1 Axes>"
            ]
          },
          "metadata": {
            "tags": [],
            "needs_background": "light"
          }
        }
      ]
    },
    {
      "cell_type": "code",
      "metadata": {
        "id": "zxRsflA1fUHW",
        "colab_type": "code",
        "colab": {
          "base_uri": "https://localhost:8080/",
          "height": 459
        },
        "outputId": "3fa76a24-7b58-4c23-ddf1-ef983d7e1d85"
      },
      "source": [
        "#The fare seems same all throughout the week\n",
        "plt.figure(figsize=(15,7))\n",
        "plt.scatter(x=train_df['weekday'], y=train_df['fare_amount'])\n",
        "plt.xlabel('Day of Week')\n",
        "plt.ylabel('Fare')\n"
      ],
      "execution_count": 680,
      "outputs": [
        {
          "output_type": "execute_result",
          "data": {
            "text/plain": [
              "Text(0, 0.5, 'Fare')"
            ]
          },
          "metadata": {
            "tags": []
          },
          "execution_count": 680
        },
        {
          "output_type": "display_data",
          "data": {
            "image/png": "[encoded data removed]",
            "text/plain": [
              "<Figure size 1080x504 with 1 Axes>"
            ]
          },
          "metadata": {
            "tags": [],
            "needs_background": "light"
          }
        }
      ]
    },
    {
      "cell_type": "code",
      "metadata": {
        "id": "0L0lz96vfUHa",
        "colab_type": "code",
        "colab": {
          "base_uri": "https://localhost:8080/",
          "height": 459
        },
        "outputId": "375e7f72-f8c1-456b-af33-66c4f49c98cb"
      },
      "source": [
        "#the fare amount and distance is directly proportional\n",
        "plt.figure(figsize=(15,7))\n",
        "plt.scatter(x=train_df['Distance'], y=train_df['fare_amount'])\n",
        "plt.xlabel('Distance travelled')\n",
        "plt.ylabel('Fare')"
      ],
      "execution_count": 681,
      "outputs": [
        {
          "output_type": "execute_result",
          "data": {
            "text/plain": [
              "Text(0, 0.5, 'Fare')"
            ]
          },
          "metadata": {
            "tags": []
          },
          "execution_count": 681
        },
        {
          "output_type": "display_data",
          "data": {
            "image/png": "[encoded data removed]",
            "text/plain": [
              "<Figure size 1080x504 with 1 Axes>"
            ]
          },
          "metadata": {
            "tags": [],
            "needs_background": "light"
          }
        }
      ]
    },
    {
      "cell_type": "code",
      "metadata": {
        "id": "ak6sxxyTfUHg",
        "colab_type": "code",
        "colab": {
          "base_uri": "https://localhost:8080/",
          "height": 425
        },
        "outputId": "4dffbba2-c289-4092-8380-0a745f6e3b0c"
      },
      "source": [
        "train_df.info()"
      ],
      "execution_count": 682,
      "outputs": [
        {
          "output_type": "stream",
          "text": [
            "<class 'pandas.core.frame.DataFrame'>\n",
            "Int64Index: 15240 entries, 0 to 16065\n",
            "Data columns (total 17 columns):\n",
            " #   Column             Non-Null Count  Dtype         \n",
            "---  ------             --------------  -----         \n",
            " 0   fare_amount        15240 non-null  float64       \n",
            " 1   pickup_datetime    15240 non-null  datetime64[ns]\n",
            " 2   pickup_longitude   15240 non-null  float64       \n",
            " 3   pickup_latitude    15240 non-null  float64       \n",
            " 4   dropoff_longitude  15240 non-null  float64       \n",
            " 5   dropoff_latitude   15240 non-null  float64       \n",
            " 6   passenger_count    15240 non-null  float64       \n",
            " 7   pickup             15240 non-null  object        \n",
            " 8   dropoff            15240 non-null  object        \n",
            " 9   Distance           15240 non-null  float64       \n",
            " 10  Year               15240 non-null  float64       \n",
            " 11  Month              15240 non-null  float64       \n",
            " 12  Day                15240 non-null  float64       \n",
            " 13  Hour               15240 non-null  float64       \n",
            " 14  weekday            15240 non-null  float64       \n",
            " 15  Day_Time           15240 non-null  object        \n",
            " 16  Week_Number        15240 non-null  object        \n",
            "dtypes: datetime64[ns](1), float64(12), object(4)\n",
            "memory usage: 2.1+ MB\n"
          ],
          "name": "stdout"
        }
      ]
    },
    {
      "cell_type": "code",
      "metadata": {
        "id": "xAOIzabCfUHo",
        "colab_type": "code",
        "colab": {
          "base_uri": "https://localhost:8080/",
          "height": 309
        },
        "outputId": "6d5ac835-b13c-4bdf-d3f0-4b4d490e41b5"
      },
      "source": [
        "train_df.head()"
      ],
      "execution_count": 683,
      "outputs": [
        {
          "output_type": "execute_result",
          "data": {
            "text/html": [
              "<div>\n",
              "<style scoped>\n",
              "    .dataframe tbody tr th:only-of-type {\n",
              "        vertical-align: middle;\n",
              "    }\n",
              "\n",
              "    .dataframe tbody tr th {\n",
              "        vertical-align: top;\n",
              "    }\n",
              "\n",
              "    .dataframe thead th {\n",
              "        text-align: right;\n",
              "    }\n",
              "</style>\n",
              "<table border=\"1\" class=\"dataframe\">\n",
              "  <thead>\n",
              "    <tr style=\"text-align: right;\">\n",
              "      <th></th>\n",
              "      <th>fare_amount</th>\n",
              "      <th>pickup_datetime</th>\n",
              "      <th>pickup_longitude</th>\n",
              "      <th>pickup_latitude</th>\n",
              "      <th>dropoff_longitude</th>\n",
              "      <th>dropoff_latitude</th>\n",
              "      <th>passenger_count</th>\n",
              "      <th>pickup</th>\n",
              "      <th>dropoff</th>\n",
              "      <th>Distance</th>\n",
              "      <th>Year</th>\n",
              "      <th>Month</th>\n",
              "      <th>Day</th>\n",
              "      <th>Hour</th>\n",
              "      <th>weekday</th>\n",
              "      <th>Day_Time</th>\n",
              "      <th>Week_Number</th>\n",
              "    </tr>\n",
              "  </thead>\n",
              "  <tbody>\n",
              "    <tr>\n",
              "      <th>0</th>\n",
              "      <td>4.5</td>\n",
              "      <td>2009-06-15 17:26:21</td>\n",
              "      <td>-73.844311</td>\n",
              "      <td>40.721319</td>\n",
              "      <td>-73.841610</td>\n",
              "      <td>40.712278</td>\n",
              "      <td>1.0</td>\n",
              "      <td>[-73.844311, 40.721319]</td>\n",
              "      <td>[-73.84161, 40.712278000000005]</td>\n",
              "      <td>0.412061</td>\n",
              "      <td>2009.0</td>\n",
              "      <td>6.0</td>\n",
              "      <td>15.0</td>\n",
              "      <td>17.0</td>\n",
              "      <td>0.0</td>\n",
              "      <td>AFTERNOON</td>\n",
              "      <td>3rd_Week</td>\n",
              "    </tr>\n",
              "    <tr>\n",
              "      <th>1</th>\n",
              "      <td>16.9</td>\n",
              "      <td>2010-01-05 16:52:16</td>\n",
              "      <td>-74.016048</td>\n",
              "      <td>40.711303</td>\n",
              "      <td>-73.979268</td>\n",
              "      <td>40.782004</td>\n",
              "      <td>1.0</td>\n",
              "      <td>[-74.016048, 40.711303]</td>\n",
              "      <td>[-73.979268, 40.782004]</td>\n",
              "      <td>4.646229</td>\n",
              "      <td>2010.0</td>\n",
              "      <td>1.0</td>\n",
              "      <td>5.0</td>\n",
              "      <td>16.0</td>\n",
              "      <td>1.0</td>\n",
              "      <td>AFTERNOON</td>\n",
              "      <td>1st_Week</td>\n",
              "    </tr>\n",
              "    <tr>\n",
              "      <th>2</th>\n",
              "      <td>5.7</td>\n",
              "      <td>2011-08-18 00:35:00</td>\n",
              "      <td>-73.982738</td>\n",
              "      <td>40.761270</td>\n",
              "      <td>-73.991242</td>\n",
              "      <td>40.750562</td>\n",
              "      <td>2.0</td>\n",
              "      <td>[-73.982738, 40.76127]</td>\n",
              "      <td>[-73.991242, 40.750562]</td>\n",
              "      <td>1.004797</td>\n",
              "      <td>2011.0</td>\n",
              "      <td>8.0</td>\n",
              "      <td>18.0</td>\n",
              "      <td>0.0</td>\n",
              "      <td>3.0</td>\n",
              "      <td>LATE_EVENING</td>\n",
              "      <td>3rd_Week</td>\n",
              "    </tr>\n",
              "    <tr>\n",
              "      <th>3</th>\n",
              "      <td>7.7</td>\n",
              "      <td>2012-04-21 04:30:42</td>\n",
              "      <td>-73.987130</td>\n",
              "      <td>40.733143</td>\n",
              "      <td>-73.991567</td>\n",
              "      <td>40.758092</td>\n",
              "      <td>1.0</td>\n",
              "      <td>[-73.98713000000001, 40.733143]</td>\n",
              "      <td>[-73.991567, 40.758092]</td>\n",
              "      <td>0.914154</td>\n",
              "      <td>2012.0</td>\n",
              "      <td>4.0</td>\n",
              "      <td>21.0</td>\n",
              "      <td>4.0</td>\n",
              "      <td>5.0</td>\n",
              "      <td>EARLY_MORNING</td>\n",
              "      <td>3rd_Week</td>\n",
              "    </tr>\n",
              "    <tr>\n",
              "      <th>4</th>\n",
              "      <td>5.3</td>\n",
              "      <td>2010-03-09 07:51:00</td>\n",
              "      <td>-73.968095</td>\n",
              "      <td>40.768008</td>\n",
              "      <td>-73.956655</td>\n",
              "      <td>40.783762</td>\n",
              "      <td>1.0</td>\n",
              "      <td>[-73.96809499999999, 40.768008]</td>\n",
              "      <td>[-73.956655, 40.783762]</td>\n",
              "      <td>1.366164</td>\n",
              "      <td>2010.0</td>\n",
              "      <td>3.0</td>\n",
              "      <td>9.0</td>\n",
              "      <td>7.0</td>\n",
              "      <td>1.0</td>\n",
              "      <td>EARLY_MORNING</td>\n",
              "      <td>2nd_Week</td>\n",
              "    </tr>\n",
              "  </tbody>\n",
              "</table>\n",
              "</div>"
            ],
            "text/plain": [
              "   fare_amount     pickup_datetime  ...       Day_Time  Week_Number\n",
              "0          4.5 2009-06-15 17:26:21  ...      AFTERNOON     3rd_Week\n",
              "1         16.9 2010-01-05 16:52:16  ...      AFTERNOON     1st_Week\n",
              "2          5.7 2011-08-18 00:35:00  ...   LATE_EVENING     3rd_Week\n",
              "3          7.7 2012-04-21 04:30:42  ...  EARLY_MORNING     3rd_Week\n",
              "4          5.3 2010-03-09 07:51:00  ...  EARLY_MORNING     2nd_Week\n",
              "\n",
              "[5 rows x 17 columns]"
            ]
          },
          "metadata": {
            "tags": []
          },
          "execution_count": 683
        }
      ]
    },
    {
      "cell_type": "code",
      "metadata": {
        "id": "s3rcWF6_fUIE",
        "colab_type": "code",
        "colab": {
          "base_uri": "https://localhost:8080/",
          "height": 945
        },
        "outputId": "72725911-d3fd-4ca0-e1c5-6376d4bf23b0"
      },
      "source": [
        "#The correlation matrix shows Distance having good corelation with dependent variable and other variables do not show correlation because of its categorical feature\n",
        "corr = train_df.corr()\n",
        "fig, axes = plt.subplots(figsize=(20, 15))\n",
        "heatmap = sns.heatmap(corr,annot= True, cmap=plt.cm.RdBu)"
      ],
      "execution_count": 684,
      "outputs": [
        {
          "output_type": "display_data",
          "data": {
            "image/png": "[encoded data removed]",
            "text/plain": [
              "<Figure size 1440x1080 with 2 Axes>"
            ]
          },
          "metadata": {
            "tags": [],
            "needs_background": "light"
          }
        }
      ]
    },
    {
      "cell_type": "code",
      "metadata": {
        "id": "w9RMqVWufUIL",
        "colab_type": "code",
        "colab": {
          "base_uri": "https://localhost:8080/",
          "height": 425
        },
        "outputId": "572c6273-95a7-43f4-80fe-5bb2332694ab"
      },
      "source": [
        "train_df.info()"
      ],
      "execution_count": 685,
      "outputs": [
        {
          "output_type": "stream",
          "text": [
            "<class 'pandas.core.frame.DataFrame'>\n",
            "Int64Index: 15240 entries, 0 to 16065\n",
            "Data columns (total 17 columns):\n",
            " #   Column             Non-Null Count  Dtype         \n",
            "---  ------             --------------  -----         \n",
            " 0   fare_amount        15240 non-null  float64       \n",
            " 1   pickup_datetime    15240 non-null  datetime64[ns]\n",
            " 2   pickup_longitude   15240 non-null  float64       \n",
            " 3   pickup_latitude    15240 non-null  float64       \n",
            " 4   dropoff_longitude  15240 non-null  float64       \n",
            " 5   dropoff_latitude   15240 non-null  float64       \n",
            " 6   passenger_count    15240 non-null  float64       \n",
            " 7   pickup             15240 non-null  object        \n",
            " 8   dropoff            15240 non-null  object        \n",
            " 9   Distance           15240 non-null  float64       \n",
            " 10  Year               15240 non-null  float64       \n",
            " 11  Month              15240 non-null  float64       \n",
            " 12  Day                15240 non-null  float64       \n",
            " 13  Hour               15240 non-null  float64       \n",
            " 14  weekday            15240 non-null  float64       \n",
            " 15  Day_Time           15240 non-null  object        \n",
            " 16  Week_Number        15240 non-null  object        \n",
            "dtypes: datetime64[ns](1), float64(12), object(4)\n",
            "memory usage: 2.1+ MB\n"
          ],
          "name": "stdout"
        }
      ]
    },
    {
      "cell_type": "code",
      "metadata": {
        "id": "8nCXMegtMLE2",
        "colab_type": "code",
        "colab": {}
      },
      "source": [
        "#Since Distance is only numerical and rest all variables to be fed to model are categorical\n",
        "def diagnose(df,variable):\n",
        "\n",
        "     \n",
        "  plt.figure(figsize=(15,6))\n",
        "  plt.subplot(1,2,1)\n",
        "  df[variable].hist()\n",
        "    \n",
        "  plt.subplot(1,2,2)\n",
        "  stats.probplot(df[variable], dist='norm', plot=plt)\n",
        "  plt.show()\n",
        "    "
      ],
      "execution_count": 686,
      "outputs": []
    },
    {
      "cell_type": "code",
      "metadata": {
        "id": "feJjQVFfMeH-",
        "colab_type": "code",
        "colab": {
          "base_uri": "https://localhost:8080/",
          "height": 404
        },
        "outputId": "6ab24690-bb79-4e60-a1a7-ffbfd288c920"
      },
      "source": [
        "diagnose(train_df, 'Distance')"
      ],
      "execution_count": 687,
      "outputs": [
        {
          "output_type": "display_data",
          "data": {
            "image/png": "[encoded data removed]",
            "text/plain": [
              "<Figure size 1080x432 with 2 Axes>"
            ]
          },
          "metadata": {
            "tags": [],
            "needs_background": "light"
          }
        }
      ]
    },
    {
      "cell_type": "code",
      "metadata": {
        "id": "vRZApJdJNPUf",
        "colab_type": "code",
        "colab": {}
      },
      "source": [
        "#to apply linear regression we need to normalize the dependent variables therefore we use Boxcox \n",
        "train_df['Distance'],fitted_lambda = stats.boxcox(train_df['Distance']+1)"
      ],
      "execution_count": 688,
      "outputs": []
    },
    {
      "cell_type": "code",
      "metadata": {
        "id": "trhCLoN8dGXr",
        "colab_type": "code",
        "colab": {
          "base_uri": "https://localhost:8080/",
          "height": 404
        },
        "outputId": "858f8dec-0cc0-471a-b5d8-d960ad4db5dd"
      },
      "source": [
        "diagnose(train_df, 'Distance')"
      ],
      "execution_count": 689,
      "outputs": [
        {
          "output_type": "display_data",
          "data": {
            "image/png": "[encoded data removed]",
            "text/plain": [
              "<Figure size 1080x432 with 2 Axes>"
            ]
          },
          "metadata": {
            "tags": [],
            "needs_background": "light"
          }
        }
      ]
    },
    {
      "cell_type": "code",
      "metadata": {
        "id": "4yz0bKCKcOcC",
        "colab_type": "code",
        "colab": {
          "base_uri": "https://localhost:8080/",
          "height": 309
        },
        "outputId": "f1cec134-775c-4018-a88e-5fe92630ff2b"
      },
      "source": [
        "train_df.head()"
      ],
      "execution_count": 690,
      "outputs": [
        {
          "output_type": "execute_result",
          "data": {
            "text/html": [
              "<div>\n",
              "<style scoped>\n",
              "    .dataframe tbody tr th:only-of-type {\n",
              "        vertical-align: middle;\n",
              "    }\n",
              "\n",
              "    .dataframe tbody tr th {\n",
              "        vertical-align: top;\n",
              "    }\n",
              "\n",
              "    .dataframe thead th {\n",
              "        text-align: right;\n",
              "    }\n",
              "</style>\n",
              "<table border=\"1\" class=\"dataframe\">\n",
              "  <thead>\n",
              "    <tr style=\"text-align: right;\">\n",
              "      <th></th>\n",
              "      <th>fare_amount</th>\n",
              "      <th>pickup_datetime</th>\n",
              "      <th>pickup_longitude</th>\n",
              "      <th>pickup_latitude</th>\n",
              "      <th>dropoff_longitude</th>\n",
              "      <th>dropoff_latitude</th>\n",
              "      <th>passenger_count</th>\n",
              "      <th>pickup</th>\n",
              "      <th>dropoff</th>\n",
              "      <th>Distance</th>\n",
              "      <th>Year</th>\n",
              "      <th>Month</th>\n",
              "      <th>Day</th>\n",
              "      <th>Hour</th>\n",
              "      <th>weekday</th>\n",
              "      <th>Day_Time</th>\n",
              "      <th>Week_Number</th>\n",
              "    </tr>\n",
              "  </thead>\n",
              "  <tbody>\n",
              "    <tr>\n",
              "      <th>0</th>\n",
              "      <td>4.5</td>\n",
              "      <td>2009-06-15 17:26:21</td>\n",
              "      <td>-73.844311</td>\n",
              "      <td>40.721319</td>\n",
              "      <td>-73.841610</td>\n",
              "      <td>40.712278</td>\n",
              "      <td>1.0</td>\n",
              "      <td>[-73.844311, 40.721319]</td>\n",
              "      <td>[-73.84161, 40.712278000000005]</td>\n",
              "      <td>0.314725</td>\n",
              "      <td>2009.0</td>\n",
              "      <td>6.0</td>\n",
              "      <td>15.0</td>\n",
              "      <td>17.0</td>\n",
              "      <td>0.0</td>\n",
              "      <td>AFTERNOON</td>\n",
              "      <td>3rd_Week</td>\n",
              "    </tr>\n",
              "    <tr>\n",
              "      <th>1</th>\n",
              "      <td>16.9</td>\n",
              "      <td>2010-01-05 16:52:16</td>\n",
              "      <td>-74.016048</td>\n",
              "      <td>40.711303</td>\n",
              "      <td>-73.979268</td>\n",
              "      <td>40.782004</td>\n",
              "      <td>1.0</td>\n",
              "      <td>[-74.016048, 40.711303]</td>\n",
              "      <td>[-73.979268, 40.782004]</td>\n",
              "      <td>1.123301</td>\n",
              "      <td>2010.0</td>\n",
              "      <td>1.0</td>\n",
              "      <td>5.0</td>\n",
              "      <td>16.0</td>\n",
              "      <td>1.0</td>\n",
              "      <td>AFTERNOON</td>\n",
              "      <td>1st_Week</td>\n",
              "    </tr>\n",
              "    <tr>\n",
              "      <th>2</th>\n",
              "      <td>5.7</td>\n",
              "      <td>2011-08-18 00:35:00</td>\n",
              "      <td>-73.982738</td>\n",
              "      <td>40.761270</td>\n",
              "      <td>-73.991242</td>\n",
              "      <td>40.750562</td>\n",
              "      <td>2.0</td>\n",
              "      <td>[-73.982738, 40.76127]</td>\n",
              "      <td>[-73.991242, 40.750562]</td>\n",
              "      <td>0.579540</td>\n",
              "      <td>2011.0</td>\n",
              "      <td>8.0</td>\n",
              "      <td>18.0</td>\n",
              "      <td>0.0</td>\n",
              "      <td>3.0</td>\n",
              "      <td>LATE_EVENING</td>\n",
              "      <td>3rd_Week</td>\n",
              "    </tr>\n",
              "    <tr>\n",
              "      <th>3</th>\n",
              "      <td>7.7</td>\n",
              "      <td>2012-04-21 04:30:42</td>\n",
              "      <td>-73.987130</td>\n",
              "      <td>40.733143</td>\n",
              "      <td>-73.991567</td>\n",
              "      <td>40.758092</td>\n",
              "      <td>1.0</td>\n",
              "      <td>[-73.98713000000001, 40.733143]</td>\n",
              "      <td>[-73.991567, 40.758092]</td>\n",
              "      <td>0.547395</td>\n",
              "      <td>2012.0</td>\n",
              "      <td>4.0</td>\n",
              "      <td>21.0</td>\n",
              "      <td>4.0</td>\n",
              "      <td>5.0</td>\n",
              "      <td>EARLY_MORNING</td>\n",
              "      <td>3rd_Week</td>\n",
              "    </tr>\n",
              "    <tr>\n",
              "      <th>4</th>\n",
              "      <td>5.3</td>\n",
              "      <td>2010-03-09 07:51:00</td>\n",
              "      <td>-73.968095</td>\n",
              "      <td>40.768008</td>\n",
              "      <td>-73.956655</td>\n",
              "      <td>40.783762</td>\n",
              "      <td>1.0</td>\n",
              "      <td>[-73.96809499999999, 40.768008]</td>\n",
              "      <td>[-73.956655, 40.783762]</td>\n",
              "      <td>0.688291</td>\n",
              "      <td>2010.0</td>\n",
              "      <td>3.0</td>\n",
              "      <td>9.0</td>\n",
              "      <td>7.0</td>\n",
              "      <td>1.0</td>\n",
              "      <td>EARLY_MORNING</td>\n",
              "      <td>2nd_Week</td>\n",
              "    </tr>\n",
              "  </tbody>\n",
              "</table>\n",
              "</div>"
            ],
            "text/plain": [
              "   fare_amount     pickup_datetime  ...       Day_Time  Week_Number\n",
              "0          4.5 2009-06-15 17:26:21  ...      AFTERNOON     3rd_Week\n",
              "1         16.9 2010-01-05 16:52:16  ...      AFTERNOON     1st_Week\n",
              "2          5.7 2011-08-18 00:35:00  ...   LATE_EVENING     3rd_Week\n",
              "3          7.7 2012-04-21 04:30:42  ...  EARLY_MORNING     3rd_Week\n",
              "4          5.3 2010-03-09 07:51:00  ...  EARLY_MORNING     2nd_Week\n",
              "\n",
              "[5 rows x 17 columns]"
            ]
          },
          "metadata": {
            "tags": []
          },
          "execution_count": 690
        }
      ]
    },
    {
      "cell_type": "code",
      "metadata": {
        "id": "5iI1o9Fvio8c",
        "colab_type": "code",
        "colab": {}
      },
      "source": [
        "#One hot Encoding for datetime extracted features as becaues all unique values in these variable are not superior when compared to each other.\n",
        "#In case of Month,all month should be given equal weightage.Similar explanation for other columns\n",
        "def one_hot_encoding(df):\n",
        "\n",
        "  df = pd.get_dummies(data=df, columns=['Year','Month','weekday','Day_Time','Week_Number'])\n",
        "\n",
        "  return df"
      ],
      "execution_count": 691,
      "outputs": []
    },
    {
      "cell_type": "code",
      "metadata": {
        "id": "X_hZA0wE0xxf",
        "colab_type": "code",
        "colab": {}
      },
      "source": [
        "train_df = one_hot_encoding(train_df)\n",
        "test_df = one_hot_encoding(test_df)\n"
      ],
      "execution_count": 692,
      "outputs": []
    },
    {
      "cell_type": "code",
      "metadata": {
        "id": "Sf0j5eKr4p8C",
        "colab_type": "code",
        "colab": {
          "base_uri": "https://localhost:8080/",
          "height": 935
        },
        "outputId": "e92c0346-1b6c-48b8-f717-dd6bb7d97ada"
      },
      "source": [
        "train_df.info()\n"
      ],
      "execution_count": 693,
      "outputs": [
        {
          "output_type": "stream",
          "text": [
            "<class 'pandas.core.frame.DataFrame'>\n",
            "Int64Index: 15240 entries, 0 to 16065\n",
            "Data columns (total 47 columns):\n",
            " #   Column                  Non-Null Count  Dtype         \n",
            "---  ------                  --------------  -----         \n",
            " 0   fare_amount             15240 non-null  float64       \n",
            " 1   pickup_datetime         15240 non-null  datetime64[ns]\n",
            " 2   pickup_longitude        15240 non-null  float64       \n",
            " 3   pickup_latitude         15240 non-null  float64       \n",
            " 4   dropoff_longitude       15240 non-null  float64       \n",
            " 5   dropoff_latitude        15240 non-null  float64       \n",
            " 6   passenger_count         15240 non-null  float64       \n",
            " 7   pickup                  15240 non-null  object        \n",
            " 8   dropoff                 15240 non-null  object        \n",
            " 9   Distance                15240 non-null  float64       \n",
            " 10  Day                     15240 non-null  float64       \n",
            " 11  Hour                    15240 non-null  float64       \n",
            " 12  Year_2009.0             15240 non-null  uint8         \n",
            " 13  Year_2010.0             15240 non-null  uint8         \n",
            " 14  Year_2011.0             15240 non-null  uint8         \n",
            " 15  Year_2012.0             15240 non-null  uint8         \n",
            " 16  Year_2013.0             15240 non-null  uint8         \n",
            " 17  Year_2014.0             15240 non-null  uint8         \n",
            " 18  Year_2015.0             15240 non-null  uint8         \n",
            " 19  Month_1.0               15240 non-null  uint8         \n",
            " 20  Month_2.0               15240 non-null  uint8         \n",
            " 21  Month_3.0               15240 non-null  uint8         \n",
            " 22  Month_4.0               15240 non-null  uint8         \n",
            " 23  Month_5.0               15240 non-null  uint8         \n",
            " 24  Month_6.0               15240 non-null  uint8         \n",
            " 25  Month_7.0               15240 non-null  uint8         \n",
            " 26  Month_8.0               15240 non-null  uint8         \n",
            " 27  Month_9.0               15240 non-null  uint8         \n",
            " 28  Month_10.0              15240 non-null  uint8         \n",
            " 29  Month_11.0              15240 non-null  uint8         \n",
            " 30  Month_12.0              15240 non-null  uint8         \n",
            " 31  weekday_0.0             15240 non-null  uint8         \n",
            " 32  weekday_1.0             15240 non-null  uint8         \n",
            " 33  weekday_2.0             15240 non-null  uint8         \n",
            " 34  weekday_3.0             15240 non-null  uint8         \n",
            " 35  weekday_4.0             15240 non-null  uint8         \n",
            " 36  weekday_5.0             15240 non-null  uint8         \n",
            " 37  weekday_6.0             15240 non-null  uint8         \n",
            " 38  Day_Time_AFTERNOON      15240 non-null  uint8         \n",
            " 39  Day_Time_EARLY_MORNING  15240 non-null  uint8         \n",
            " 40  Day_Time_EVENING        15240 non-null  uint8         \n",
            " 41  Day_Time_LATE_EVENING   15240 non-null  uint8         \n",
            " 42  Day_Time_MORNING        15240 non-null  uint8         \n",
            " 43  Week_Number_1st_Week    15240 non-null  uint8         \n",
            " 44  Week_Number_2nd_Week    15240 non-null  uint8         \n",
            " 45  Week_Number_3rd_Week    15240 non-null  uint8         \n",
            " 46  Week_Number_4th_Week    15240 non-null  uint8         \n",
            "dtypes: datetime64[ns](1), float64(9), object(2), uint8(35)\n",
            "memory usage: 2.0+ MB\n"
          ],
          "name": "stdout"
        }
      ]
    },
    {
      "cell_type": "markdown",
      "metadata": {
        "id": "ADSajDg9fUIR",
        "colab_type": "text"
      },
      "source": [
        "Model Building"
      ]
    },
    {
      "cell_type": "code",
      "metadata": {
        "id": "Vkc_zxRiCggH",
        "colab_type": "code",
        "colab": {}
      },
      "source": [
        "from sklearn.metrics import mean_squared_error\n",
        "from sklearn.metrics import mean_absolute_error\n",
        "\n",
        "from sklearn.metrics import r2_score\n",
        "from sklearn.ensemble import RandomForestRegressor\n",
        "from sklearn.model_selection import cross_val_score\n",
        "from sklearn.model_selection import GridSearchCV\n"
      ],
      "execution_count": 705,
      "outputs": []
    },
    {
      "cell_type": "code",
      "metadata": {
        "id": "f4XjJ31jfUIU",
        "colab_type": "code",
        "colab": {}
      },
      "source": [
        "\n",
        "X_test = test_df.drop(['pickup_datetime', 'pickup_longitude', 'pickup_latitude', 'dropoff_longitude', 'dropoff_latitude', 'pickup', 'dropoff', 'Day', 'Hour'], axis = 1) "
      ],
      "execution_count": 715,
      "outputs": []
    },
    {
      "cell_type": "code",
      "metadata": {
        "id": "Bh9Fv87qfUIb",
        "colab_type": "code",
        "colab": {}
      },
      "source": [
        "X_train = train_df.drop(['fare_amount','pickup_datetime', 'pickup_longitude', 'pickup_latitude', 'dropoff_longitude', 'dropoff_latitude', 'pickup', 'dropoff', 'Day', 'Hour'], axis = 1) \n",
        "y_train = train_df['fare_amount'].copy()"
      ],
      "execution_count": 716,
      "outputs": []
    },
    {
      "cell_type": "code",
      "metadata": {
        "id": "eIxuWE6XPKRo",
        "colab_type": "code",
        "colab": {}
      },
      "source": [
        "from sklearn.model_selection import train_test_split\n",
        "X_tr, X_te, y_tr, y_te = train_test_split(X_train, y_train, test_size=0.3,random_state=42)\n"
      ],
      "execution_count": 717,
      "outputs": []
    },
    {
      "cell_type": "code",
      "metadata": {
        "id": "ShT5M72S2W-J",
        "colab_type": "code",
        "colab": {}
      },
      "source": [
        ""
      ],
      "execution_count": null,
      "outputs": []
    },
    {
      "cell_type": "code",
      "metadata": {
        "id": "fupdDfYwkd7X",
        "colab_type": "code",
        "colab": {
          "base_uri": "https://localhost:8080/",
          "height": 51
        },
        "outputId": "46dd6cf1-6815-46ae-a032-5d96554cd09d"
      },
      "source": [
        "print(X_tr.shape)\n",
        "print(X_te.shape)"
      ],
      "execution_count": 699,
      "outputs": [
        {
          "output_type": "stream",
          "text": [
            "(10668, 37)\n",
            "(4572, 37)\n"
          ],
          "name": "stdout"
        }
      ]
    },
    {
      "cell_type": "code",
      "metadata": {
        "id": "0jZtXRsn1TR_",
        "colab_type": "code",
        "colab": {}
      },
      "source": [
        "X_with_const= sm.add_constant(X_tr)\n",
        "model = sm.OLS(y_tr, X_with_const)"
      ],
      "execution_count": 718,
      "outputs": []
    },
    {
      "cell_type": "code",
      "metadata": {
        "id": "kwbmlrT0QxyW",
        "colab_type": "code",
        "colab": {}
      },
      "source": [
        "#R square Value of 0.37 is observed.\n",
        "#R squared is the coefficient of determination in which if it is close to 1,it informs model has fit very well.\n",
        "#In this case r square is equivalent to 0.37 and since r square and Adj r square are very close enough, the selected features are quite relevant.\n",
        "#F Statistics helps in assessing the significance of overall regression model.Since the F- statistics value is high and p value of f-statistics is 0,it tells\n",
        "#there is linear relation between independent variables and target variable.\n",
        "#t test shows the relationship between target variable and every predictor variable independently in which if t value is higher and p value is much lower,\n",
        "#we assume the particular is of no no importance to the model.\n"
      ],
      "execution_count": null,
      "outputs": []
    },
    {
      "cell_type": "code",
      "metadata": {
        "id": "ee3iSlH71kLo",
        "colab_type": "code",
        "colab": {
          "base_uri": "https://localhost:8080/",
          "height": 1000
        },
        "outputId": "2f1d51da-8881-4c55-c8e6-8b0203a96a4f"
      },
      "source": [
        "result = model.fit()\n",
        "print(result.summary())"
      ],
      "execution_count": 701,
      "outputs": [
        {
          "output_type": "stream",
          "text": [
            "                            OLS Regression Results                            \n",
            "==============================================================================\n",
            "Dep. Variable:            fare_amount   R-squared:                       0.372\n",
            "Model:                            OLS   Adj. R-squared:                  0.370\n",
            "Method:                 Least Squares   F-statistic:                     196.5\n",
            "Date:                Mon, 20 Jul 2020   Prob (F-statistic):               0.00\n",
            "Time:                        17:04:12   Log-Likelihood:                -33971.\n",
            "No. Observations:               10668   AIC:                         6.801e+04\n",
            "Df Residuals:                   10635   BIC:                         6.825e+04\n",
            "Df Model:                          32                                         \n",
            "Covariance Type:            nonrobust                                         \n",
            "==========================================================================================\n",
            "                             coef    std err          t      P>|t|      [0.025      0.975]\n",
            "------------------------------------------------------------------------------------------\n",
            "const                     -0.1286      0.094     -1.374      0.169      -0.312       0.055\n",
            "passenger_count            0.0483      0.045      1.076      0.282      -0.040       0.136\n",
            "Distance                  14.5120      0.189     76.673      0.000      14.141      14.883\n",
            "Year_2009.0               -1.0514      0.136     -7.753      0.000      -1.317      -0.786\n",
            "Year_2010.0               -1.0893      0.136     -8.030      0.000      -1.355      -0.823\n",
            "Year_2011.0               -0.8879      0.136     -6.548      0.000      -1.154      -0.622\n",
            "Year_2012.0               -0.4677      0.135     -3.476      0.001      -0.731      -0.204\n",
            "Year_2013.0                0.8476      0.134      6.315      0.000       0.585       1.111\n",
            "Year_2014.0                1.1457      0.141      8.124      0.000       0.869       1.422\n",
            "Year_2015.0                1.3743      0.194      7.082      0.000       0.994       1.755\n",
            "Month_1.0                 -0.7337      0.180     -4.082      0.000      -1.086      -0.381\n",
            "Month_2.0                 -0.1799      0.190     -0.945      0.345      -0.553       0.193\n",
            "Month_3.0                 -0.1886      0.181     -1.045      0.296      -0.543       0.165\n",
            "Month_4.0                 -0.1838      0.181     -1.013      0.311      -0.540       0.172\n",
            "Month_5.0                  0.2020      0.179      1.131      0.258      -0.148       0.552\n",
            "Month_6.0                 -0.3358      0.179     -1.879      0.060      -0.686       0.015\n",
            "Month_7.0                 -0.2209      0.201     -1.097      0.273      -0.616       0.174\n",
            "Month_8.0                 -0.0502      0.207     -0.243      0.808      -0.456       0.355\n",
            "Month_9.0                  0.4023      0.198      2.036      0.042       0.015       0.790\n",
            "Month_10.0                 0.6354      0.190      3.343      0.001       0.263       1.008\n",
            "Month_11.0                 0.3912      0.198      1.976      0.048       0.003       0.779\n",
            "Month_12.0                 0.1335      0.195      0.685      0.493      -0.248       0.515\n",
            "weekday_0.0               -0.4268      0.145     -2.940      0.003      -0.711      -0.142\n",
            "weekday_1.0                0.1091      0.141      0.776      0.438      -0.167       0.385\n",
            "weekday_2.0                0.0339      0.139      0.244      0.808      -0.239       0.306\n",
            "weekday_3.0                0.1567      0.139      1.129      0.259      -0.115       0.429\n",
            "weekday_4.0                0.1368      0.138      0.994      0.320      -0.133       0.407\n",
            "weekday_5.0               -0.0206      0.135     -0.153      0.878      -0.285       0.243\n",
            "weekday_6.0               -0.1177      0.145     -0.812      0.417      -0.402       0.166\n",
            "Day_Time_AFTERNOON         0.4894      0.102      4.792      0.000       0.289       0.690\n",
            "Day_Time_EARLY_MORNING    -0.4664      0.155     -3.004      0.003      -0.771      -0.162\n",
            "Day_Time_EVENING          -0.1453      0.102     -1.427      0.154      -0.345       0.054\n",
            "Day_Time_LATE_EVENING     -0.1748      0.139     -1.260      0.208      -0.447       0.097\n",
            "Day_Time_MORNING           0.1685      0.121      1.388      0.165      -0.069       0.406\n",
            "Week_Number_1st_Week       0.0106      0.105      0.101      0.920      -0.195       0.216\n",
            "Week_Number_2nd_Week      -0.0361      0.104     -0.348      0.728      -0.239       0.167\n",
            "Week_Number_3rd_Week       0.1080      0.104      1.043      0.297      -0.095       0.311\n",
            "Week_Number_4th_Week      -0.2111      0.095     -2.232      0.026      -0.396      -0.026\n",
            "==============================================================================\n",
            "Omnibus:                    13594.205   Durbin-Watson:                   1.993\n",
            "Prob(Omnibus):                  0.000   Jarque-Bera (JB):          6421979.194\n",
            "Skew:                           6.635   Prob(JB):                         0.00\n",
            "Kurtosis:                     122.464   Cond. No.                     1.22e+16\n",
            "==============================================================================\n",
            "\n",
            "Warnings:\n",
            "[1] Standard Errors assume that the covariance matrix of the errors is correctly specified.\n",
            "[2] The smallest eigenvalue is 4.36e-28. This might indicate that there are\n",
            "strong multicollinearity problems or that the design matrix is singular.\n"
          ],
          "name": "stdout"
        }
      ]
    },
    {
      "cell_type": "code",
      "metadata": {
        "id": "2erZZYwB1853",
        "colab_type": "code",
        "colab": {}
      },
      "source": [
        "X_te1 = sm.add_constant(X_te)\n",
        "y_pred = result.predict(X_te1)"
      ],
      "execution_count": 719,
      "outputs": []
    },
    {
      "cell_type": "code",
      "metadata": {
        "id": "VFBtpGna2DvE",
        "colab_type": "code",
        "colab": {}
      },
      "source": [
        "residual = y_te - y_pred\n"
      ],
      "execution_count": 720,
      "outputs": []
    },
    {
      "cell_type": "markdown",
      "metadata": {
        "id": "MduQiB4a3e7a",
        "colab_type": "text"
      },
      "source": [
        "Verifying Linear Regression Assumptions\n"
      ]
    },
    {
      "cell_type": "code",
      "metadata": {
        "id": "kdghjn1d2vUh",
        "colab_type": "code",
        "colab": {
          "base_uri": "https://localhost:8080/",
          "height": 122
        },
        "outputId": "bc2b71d2-5740-4fea-d7cb-f3392065a2ae"
      },
      "source": [
        "#the numerical variables(ie passenger_count and Distance) have very low VIF score , therefore assumption of multicollinearity hold true\n",
        "from statsmodels.stats.outliers_influence import variance_inflation_factor\n",
        "vif= [variance_inflation_factor(x_train.values, i) for i in range(x_train.shape[1])]\n",
        "print(vif)\n"
      ],
      "execution_count": 710,
      "outputs": [
        {
          "output_type": "stream",
          "text": [
            "/usr/local/lib/python3.6/dist-packages/statsmodels/regression/linear_model.py:1636: RuntimeWarning: divide by zero encountered in double_scalars\n",
            "  return 1 - self.ssr/self.centered_tss\n",
            "/usr/local/lib/python3.6/dist-packages/statsmodels/stats/outliers_influence.py:185: RuntimeWarning: divide by zero encountered in double_scalars\n",
            "  vif = 1. / (1. - r_squared_i)\n"
          ],
          "name": "stderr"
        },
        {
          "output_type": "stream",
          "text": [
            "[0.0, 1.0054234184479318, 1.0147548198419634, inf, inf, inf, inf, inf, inf, inf, inf, inf, inf, inf, inf, inf, inf, inf, inf, inf, inf, inf, inf, inf, inf, inf, inf, inf, inf, inf, inf, inf, inf, inf, inf, inf, inf, inf]\n"
          ],
          "name": "stdout"
        }
      ]
    },
    {
      "cell_type": "code",
      "metadata": {
        "id": "ZBPdDlQF3pIB",
        "colab_type": "code",
        "colab": {
          "base_uri": "https://localhost:8080/",
          "height": 404
        },
        "outputId": "647012dc-8efc-4d89-a683-ba2196017149"
      },
      "source": [
        "#Normality of Residual\n",
        "#Since points are centered along 0 in distplot and most points lie in line in qq plot,Therefore it follows the assumption of normality\n",
        "plt.figure(figsize=(15,6))\n",
        "plt.subplot(1,2,1)\n",
        "sns.distplot(residual)\n",
        "    \n",
        "plt.subplot(1,2,2)\n",
        "stats.probplot(residual, dist='norm', plot=plt)\n",
        "plt.show()\n",
        "    "
      ],
      "execution_count": 711,
      "outputs": [
        {
          "output_type": "display_data",
          "data": {
            "image/png": "[encoded data removed]",
            "text/plain": [
              "<Figure size 1080x432 with 2 Axes>"
            ]
          },
          "metadata": {
            "tags": [],
            "needs_background": "light"
          }
        }
      ]
    },
    {
      "cell_type": "code",
      "metadata": {
        "id": "27LTW2iv4lpS",
        "colab_type": "code",
        "colab": {
          "base_uri": "https://localhost:8080/",
          "height": 265
        },
        "outputId": "ce364dbe-a79f-4de6-ae90-53611de39746"
      },
      "source": [
        "#Homoscaedacity\n",
        "#The following scatterplot almost follows homoscaedacity as the residuals are almost equal across the regression line\n",
        "fig,ax = plt.subplots(figsize=(10,4))\n",
        "_=ax.scatter(y_train_pred,residuals)"
      ],
      "execution_count": 712,
      "outputs": [
        {
          "output_type": "display_data",
          "data": {
            "image/png": "[encoded data removed]",
            "text/plain": [
              "<Figure size 720x288 with 1 Axes>"
            ]
          },
          "metadata": {
            "tags": [],
            "needs_background": "light"
          }
        }
      ]
    },
    {
      "cell_type": "code",
      "metadata": {
        "id": "E6VgPyJ40CtF",
        "colab_type": "code",
        "colab": {
          "base_uri": "https://localhost:8080/",
          "height": 527
        },
        "outputId": "da16ff12-1060-440b-fd0f-534dfe4fee04"
      },
      "source": [
        "#Same is the case with Ridge regression which gives a R square value of 0.37 and RMSE value of 5.84 which is same as Linear Regression.\n",
        "#Hyper tuning the ridge model to get the fitted aplha value giving min rmse value\n",
        "from sklearn.linear_model import Ridge\n",
        "alphas =[1e-5,1e-3, 1e-2, 0.02, 0.04,0.08,0.1]\n",
        "for alpha in alphas:\n",
        "\n",
        "  ridge = Ridge(alpha = alpha)\n",
        "  ridge.fit(X_tr, y_tr)\n",
        "  y_train_pred1 = ridge.predict(X_te)\n",
        "\n",
        "  mse = mean_absolute_error(y_te, y_train_pred1,squared= False)\n",
        "  r2 = r2_score(y_te, y_train_pred1)\n",
        "  print(\"mse\",rmse)\n",
        "  print('---------------------------------------------')\n",
        "  print(\"R2_score\",r2)\n",
        "  print('---------------------------------------------')\n",
        "\n",
        "\n",
        "print(rmse.mean())\n",
        "print(r2.mean())\n"
      ],
      "execution_count": 721,
      "outputs": [
        {
          "output_type": "stream",
          "text": [
            "Rmse 5.837832658156827\n",
            "---------------------------------------------\n",
            "R2_score 0.3963617203079087\n",
            "---------------------------------------------\n",
            "Rmse 5.8378327954873805\n",
            "---------------------------------------------\n",
            "R2_score 0.3963616919076499\n",
            "---------------------------------------------\n",
            "Rmse 5.837834044105356\n",
            "---------------------------------------------\n",
            "R2_score 0.39636143369068844\n",
            "---------------------------------------------\n",
            "Rmse 5.8378354317934\n",
            "---------------------------------------------\n",
            "R2_score 0.3963611467136642\n",
            "---------------------------------------------\n",
            "Rmse 5.83783820822646\n",
            "---------------------------------------------\n",
            "R2_score 0.3963605725408268\n",
            "---------------------------------------------\n",
            "Rmse 5.837843765319805\n",
            "---------------------------------------------\n",
            "R2_score 0.39635942332013163\n",
            "---------------------------------------------\n",
            "Rmse 5.837846545979714\n",
            "---------------------------------------------\n",
            "R2_score 0.396358848272351\n",
            "---------------------------------------------\n",
            "5.837846545979714\n",
            "0.396358848272351\n"
          ],
          "name": "stdout"
        }
      ]
    },
    {
      "cell_type": "code",
      "metadata": {
        "id": "3FDeLrMryaAI",
        "colab_type": "code",
        "colab": {}
      },
      "source": [
        "#Selecting parameter for tuning in Random Forest \n",
        "grid_param = {\n",
        "    'n_estimators': [50,80,100,150,175,200,250,300],\n",
        "    'max_depth': [10,15,20,25,30,40]\n",
        "     \n",
        "}"
      ],
      "execution_count": 722,
      "outputs": []
    },
    {
      "cell_type": "code",
      "metadata": {
        "id": "H1uXTphLfUI-",
        "colab_type": "code",
        "colab": {
          "base_uri": "https://localhost:8080/",
          "height": 357
        },
        "outputId": "4afd1d7c-7f57-42a1-c7a7-4bc761300590"
      },
      "source": [
        "rfr1 = RandomForestRegressor()\n",
        "\n",
        "rfr_regressor= GridSearchCV(rfr1,grid_param,scoring='neg_mean_absolute_error',cv=5)\n",
        "rfr_regressor.fit(X_train, y_train)\n",
        "##print(rfr_regressor.best_params)\n",
        "##print(rfr_regressor.best_score)\n",
        "#score3=cross_val_score(rfr1,X_train,y_train,scoring='neg_mean_absolute_error',cv=5)\n",
        "#score4=cross_val_score(rfr1,X_train,y_train,scoring='r2',cv=5)\n"
      ],
      "execution_count": 723,
      "outputs": [
        {
          "output_type": "execute_result",
          "data": {
            "text/plain": [
              "GridSearchCV(cv=5, error_score=nan,\n",
              "             estimator=RandomForestRegressor(bootstrap=True, ccp_alpha=0.0,\n",
              "                                             criterion='mse', max_depth=None,\n",
              "                                             max_features='auto',\n",
              "                                             max_leaf_nodes=None,\n",
              "                                             max_samples=None,\n",
              "                                             min_impurity_decrease=0.0,\n",
              "                                             min_impurity_split=None,\n",
              "                                             min_samples_leaf=1,\n",
              "                                             min_samples_split=2,\n",
              "                                             min_weight_fraction_leaf=0.0,\n",
              "                                             n_estimators=100, n_jobs=None,\n",
              "                                             oob_score=False, random_state=None,\n",
              "                                             verbose=0, warm_start=False),\n",
              "             iid='deprecated', n_jobs=None,\n",
              "             param_grid={'max_depth': [10, 15, 20, 25, 30, 40],\n",
              "                         'n_estimators': [50, 80, 100, 150, 175, 200, 250,\n",
              "                                          300]},\n",
              "             pre_dispatch='2*n_jobs', refit=True, return_train_score=False,\n",
              "             scoring='neg_mean_absolute_error', verbose=0)"
            ]
          },
          "metadata": {
            "tags": []
          },
          "execution_count": 723
        }
      ]
    },
    {
      "cell_type": "code",
      "metadata": {
        "id": "D7sCqaTOsEK9",
        "colab_type": "code",
        "colab": {
          "base_uri": "https://localhost:8080/",
          "height": 51
        },
        "outputId": "06bc6519-2c8e-4de0-d429-19629fd1f931"
      },
      "source": [
        "print(rfr_regressor.best_params_)\n",
        "print(rfr_regressor.best_score_)"
      ],
      "execution_count": 724,
      "outputs": [
        {
          "output_type": "stream",
          "text": [
            "{'max_depth': 10, 'n_estimators': 200}\n",
            "-2.8126336777440715\n"
          ],
          "name": "stdout"
        }
      ]
    },
    {
      "cell_type": "markdown",
      "metadata": {
        "id": "kNre-KP9F7lE",
        "colab_type": "text"
      },
      "source": [
        "Using Cross validation"
      ]
    },
    {
      "cell_type": "code",
      "metadata": {
        "id": "_g_o1NnnbUw6",
        "colab_type": "code",
        "colab": {}
      },
      "source": [
        "#Its seen that with cross validation of 10 splits the R square and mae value increases and decreases respectively"
      ],
      "execution_count": 626,
      "outputs": []
    },
    {
      "cell_type": "code",
      "metadata": {
        "id": "F8ON0MLLfUIq",
        "colab_type": "code",
        "colab": {
          "base_uri": "https://localhost:8080/",
          "height": 51
        },
        "outputId": "c38013f5-ecd2-4bc4-9b79-566f8d56b73d"
      },
      "source": [
        "from sklearn.linear_model import LinearRegression\n",
        "lin_reg1 = LinearRegression(n_jobs=-1,normalize = False)\n",
        "#lin_reg.fit(X_train,y_train)\n",
        "score1=cross_val_score(lin_reg1,X_train,y_train,scoring='neg_mean_absolute_error',cv=10)\n",
        "score2=cross_val_score(lin_reg1,X_train,y_train,scoring='r2',cv=10)\n",
        "print((-1*score1).mean())\n",
        "print(score2.mean())"
      ],
      "execution_count": 730,
      "outputs": [
        {
          "output_type": "stream",
          "text": [
            "3.5482595630155154\n",
            "0.3970718548565308\n"
          ],
          "name": "stdout"
        }
      ]
    },
    {
      "cell_type": "code",
      "metadata": {
        "id": "8BQmSlzb1XGe",
        "colab_type": "code",
        "colab": {
          "base_uri": "https://localhost:8080/",
          "height": 51
        },
        "outputId": "eff638aa-3e0f-4a3b-f5d2-5e54c6637516"
      },
      "source": [
        "ridge = Ridge(alpha = 0.1)\n",
        "\n",
        "score3=cross_val_score(ridge,X_train,y_train,scoring='neg_mean_absolute_error',cv=10)\n",
        "score4=cross_val_score(ridge,X_train,y_train,scoring='r2',cv=10)\n",
        "print((-1*score3).mean())\n",
        "print(score4.mean())"
      ],
      "execution_count": 726,
      "outputs": [
        {
          "output_type": "stream",
          "text": [
            "3.5482154622973683\n",
            "0.39707203009132325\n"
          ],
          "name": "stdout"
        }
      ]
    },
    {
      "cell_type": "code",
      "metadata": {
        "id": "nCIWANkRse2C",
        "colab_type": "code",
        "colab": {
          "base_uri": "https://localhost:8080/",
          "height": 51
        },
        "outputId": "3d1f9be5-e4d4-4b1f-9512-bcf22d053378"
      },
      "source": [
        "rfr=RandomForestRegressor(max_depth= 10, n_estimators= 200)\n",
        "score5=cross_val_score(rfr,X_train,y_train,scoring='neg_mean_absolute_error',cv=10)\n",
        "score6=cross_val_score(rfr,X_train,y_train,scoring='r2',cv=10)\n",
        "print((-1*score5).mean())\n",
        "print(score6.mean())"
      ],
      "execution_count": 729,
      "outputs": [
        {
          "output_type": "stream",
          "text": [
            "2.8036639608909564\n",
            "0.5582237610294297\n"
          ],
          "name": "stdout"
        }
      ]
    },
    {
      "cell_type": "markdown",
      "metadata": {
        "id": "x3x8nl8EH1nd",
        "colab_type": "text"
      },
      "source": [
        "Out of all models Random Forest Regressor is seen with maximum good fit with a r square value of 0.55 and a mean absolute error of 2.80 which is the amount of error in my measurements.It is the difference between the measured value and true value.\n",
        "The smaller an MEA value, the closer predicted and observed values are."
      ]
    },
    {
      "cell_type": "code",
      "metadata": {
        "id": "JbVVxDhI3E1r",
        "colab_type": "code",
        "colab": {}
      },
      "source": [
        "final_model = RandomForestRegressor(max_depth= 10, n_estimators= 200)\n",
        "pred_test_y = final_model.fit(X_train,y_train)\n",
        "pred_test_y = final_model.predict(X_test)"
      ],
      "execution_count": 731,
      "outputs": []
    },
    {
      "cell_type": "code",
      "metadata": {
        "id": "VyhgIdDBqAyc",
        "colab_type": "code",
        "colab": {}
      },
      "source": [
        "test_df['fare_amount'] = pred_test_y\n"
      ],
      "execution_count": 732,
      "outputs": []
    },
    {
      "cell_type": "code",
      "metadata": {
        "id": "EH3Epw74qIsH",
        "colab_type": "code",
        "colab": {
          "base_uri": "https://localhost:8080/",
          "height": 309
        },
        "outputId": "25e47fe0-7f9b-44d2-da13-7ced79ae7610"
      },
      "source": [
        "test_df.head()"
      ],
      "execution_count": 733,
      "outputs": [
        {
          "output_type": "execute_result",
          "data": {
            "text/html": [
              "<div>\n",
              "<style scoped>\n",
              "    .dataframe tbody tr th:only-of-type {\n",
              "        vertical-align: middle;\n",
              "    }\n",
              "\n",
              "    .dataframe tbody tr th {\n",
              "        vertical-align: top;\n",
              "    }\n",
              "\n",
              "    .dataframe thead th {\n",
              "        text-align: right;\n",
              "    }\n",
              "</style>\n",
              "<table border=\"1\" class=\"dataframe\">\n",
              "  <thead>\n",
              "    <tr style=\"text-align: right;\">\n",
              "      <th></th>\n",
              "      <th>pickup_datetime</th>\n",
              "      <th>pickup_longitude</th>\n",
              "      <th>pickup_latitude</th>\n",
              "      <th>dropoff_longitude</th>\n",
              "      <th>dropoff_latitude</th>\n",
              "      <th>passenger_count</th>\n",
              "      <th>pickup</th>\n",
              "      <th>dropoff</th>\n",
              "      <th>Distance</th>\n",
              "      <th>Day</th>\n",
              "      <th>Hour</th>\n",
              "      <th>Year_2009</th>\n",
              "      <th>Year_2010</th>\n",
              "      <th>Year_2011</th>\n",
              "      <th>Year_2012</th>\n",
              "      <th>Year_2013</th>\n",
              "      <th>Year_2014</th>\n",
              "      <th>Year_2015</th>\n",
              "      <th>Month_1</th>\n",
              "      <th>Month_2</th>\n",
              "      <th>Month_3</th>\n",
              "      <th>Month_4</th>\n",
              "      <th>Month_5</th>\n",
              "      <th>Month_6</th>\n",
              "      <th>Month_7</th>\n",
              "      <th>Month_8</th>\n",
              "      <th>Month_9</th>\n",
              "      <th>Month_10</th>\n",
              "      <th>Month_11</th>\n",
              "      <th>Month_12</th>\n",
              "      <th>weekday_0</th>\n",
              "      <th>weekday_1</th>\n",
              "      <th>weekday_2</th>\n",
              "      <th>weekday_3</th>\n",
              "      <th>weekday_4</th>\n",
              "      <th>weekday_5</th>\n",
              "      <th>weekday_6</th>\n",
              "      <th>Day_Time_AFTERNOON</th>\n",
              "      <th>Day_Time_EARLY_MORNING</th>\n",
              "      <th>Day_Time_EVENING</th>\n",
              "      <th>Day_Time_LATE_EVENING</th>\n",
              "      <th>Day_Time_MORNING</th>\n",
              "      <th>Week_Number_1st_Week</th>\n",
              "      <th>Week_Number_2nd_Week</th>\n",
              "      <th>Week_Number_3rd_Week</th>\n",
              "      <th>Week_Number_4th_Week</th>\n",
              "      <th>fare_amount</th>\n",
              "    </tr>\n",
              "  </thead>\n",
              "  <tbody>\n",
              "    <tr>\n",
              "      <th>0</th>\n",
              "      <td>2015-01-27 13:08:24</td>\n",
              "      <td>-73.973320</td>\n",
              "      <td>40.763805</td>\n",
              "      <td>-73.981430</td>\n",
              "      <td>40.743835</td>\n",
              "      <td>1</td>\n",
              "      <td>[-73.97332001, 40.76380539]</td>\n",
              "      <td>[-73.98143005, 40.74383545]</td>\n",
              "      <td>1.094593</td>\n",
              "      <td>27</td>\n",
              "      <td>13</td>\n",
              "      <td>0</td>\n",
              "      <td>0</td>\n",
              "      <td>0</td>\n",
              "      <td>0</td>\n",
              "      <td>0</td>\n",
              "      <td>0</td>\n",
              "      <td>1</td>\n",
              "      <td>1</td>\n",
              "      <td>0</td>\n",
              "      <td>0</td>\n",
              "      <td>0</td>\n",
              "      <td>0</td>\n",
              "      <td>0</td>\n",
              "      <td>0</td>\n",
              "      <td>0</td>\n",
              "      <td>0</td>\n",
              "      <td>0</td>\n",
              "      <td>0</td>\n",
              "      <td>0</td>\n",
              "      <td>0</td>\n",
              "      <td>1</td>\n",
              "      <td>0</td>\n",
              "      <td>0</td>\n",
              "      <td>0</td>\n",
              "      <td>0</td>\n",
              "      <td>0</td>\n",
              "      <td>1</td>\n",
              "      <td>0</td>\n",
              "      <td>0</td>\n",
              "      <td>0</td>\n",
              "      <td>0</td>\n",
              "      <td>0</td>\n",
              "      <td>0</td>\n",
              "      <td>0</td>\n",
              "      <td>1</td>\n",
              "      <td>22.347187</td>\n",
              "    </tr>\n",
              "    <tr>\n",
              "      <th>1</th>\n",
              "      <td>2015-01-27 13:08:24</td>\n",
              "      <td>-73.986862</td>\n",
              "      <td>40.719383</td>\n",
              "      <td>-73.998886</td>\n",
              "      <td>40.739201</td>\n",
              "      <td>1</td>\n",
              "      <td>[-73.98686218, 40.71938324]</td>\n",
              "      <td>[-73.99888611, 40.73920059]</td>\n",
              "      <td>1.474197</td>\n",
              "      <td>27</td>\n",
              "      <td>13</td>\n",
              "      <td>0</td>\n",
              "      <td>0</td>\n",
              "      <td>0</td>\n",
              "      <td>0</td>\n",
              "      <td>0</td>\n",
              "      <td>0</td>\n",
              "      <td>1</td>\n",
              "      <td>1</td>\n",
              "      <td>0</td>\n",
              "      <td>0</td>\n",
              "      <td>0</td>\n",
              "      <td>0</td>\n",
              "      <td>0</td>\n",
              "      <td>0</td>\n",
              "      <td>0</td>\n",
              "      <td>0</td>\n",
              "      <td>0</td>\n",
              "      <td>0</td>\n",
              "      <td>0</td>\n",
              "      <td>0</td>\n",
              "      <td>1</td>\n",
              "      <td>0</td>\n",
              "      <td>0</td>\n",
              "      <td>0</td>\n",
              "      <td>0</td>\n",
              "      <td>0</td>\n",
              "      <td>1</td>\n",
              "      <td>0</td>\n",
              "      <td>0</td>\n",
              "      <td>0</td>\n",
              "      <td>0</td>\n",
              "      <td>0</td>\n",
              "      <td>0</td>\n",
              "      <td>0</td>\n",
              "      <td>1</td>\n",
              "      <td>48.371515</td>\n",
              "    </tr>\n",
              "    <tr>\n",
              "      <th>2</th>\n",
              "      <td>2011-10-08 11:53:44</td>\n",
              "      <td>-73.982524</td>\n",
              "      <td>40.751260</td>\n",
              "      <td>-73.979654</td>\n",
              "      <td>40.746139</td>\n",
              "      <td>1</td>\n",
              "      <td>[-73.982524, 40.751259999999995]</td>\n",
              "      <td>[-73.97965400000001, 40.746139]</td>\n",
              "      <td>0.357076</td>\n",
              "      <td>8</td>\n",
              "      <td>11</td>\n",
              "      <td>0</td>\n",
              "      <td>0</td>\n",
              "      <td>1</td>\n",
              "      <td>0</td>\n",
              "      <td>0</td>\n",
              "      <td>0</td>\n",
              "      <td>0</td>\n",
              "      <td>0</td>\n",
              "      <td>0</td>\n",
              "      <td>0</td>\n",
              "      <td>0</td>\n",
              "      <td>0</td>\n",
              "      <td>0</td>\n",
              "      <td>0</td>\n",
              "      <td>0</td>\n",
              "      <td>0</td>\n",
              "      <td>1</td>\n",
              "      <td>0</td>\n",
              "      <td>0</td>\n",
              "      <td>0</td>\n",
              "      <td>0</td>\n",
              "      <td>0</td>\n",
              "      <td>0</td>\n",
              "      <td>0</td>\n",
              "      <td>1</td>\n",
              "      <td>0</td>\n",
              "      <td>0</td>\n",
              "      <td>0</td>\n",
              "      <td>0</td>\n",
              "      <td>0</td>\n",
              "      <td>1</td>\n",
              "      <td>0</td>\n",
              "      <td>1</td>\n",
              "      <td>0</td>\n",
              "      <td>0</td>\n",
              "      <td>5.646525</td>\n",
              "    </tr>\n",
              "    <tr>\n",
              "      <th>3</th>\n",
              "      <td>2012-12-01 21:12:12</td>\n",
              "      <td>-73.981160</td>\n",
              "      <td>40.767807</td>\n",
              "      <td>-73.990448</td>\n",
              "      <td>40.751635</td>\n",
              "      <td>1</td>\n",
              "      <td>[-73.98116, 40.767807]</td>\n",
              "      <td>[-73.990448, 40.751635]</td>\n",
              "      <td>1.150116</td>\n",
              "      <td>1</td>\n",
              "      <td>21</td>\n",
              "      <td>0</td>\n",
              "      <td>0</td>\n",
              "      <td>0</td>\n",
              "      <td>1</td>\n",
              "      <td>0</td>\n",
              "      <td>0</td>\n",
              "      <td>0</td>\n",
              "      <td>0</td>\n",
              "      <td>0</td>\n",
              "      <td>0</td>\n",
              "      <td>0</td>\n",
              "      <td>0</td>\n",
              "      <td>0</td>\n",
              "      <td>0</td>\n",
              "      <td>0</td>\n",
              "      <td>0</td>\n",
              "      <td>0</td>\n",
              "      <td>0</td>\n",
              "      <td>1</td>\n",
              "      <td>0</td>\n",
              "      <td>0</td>\n",
              "      <td>0</td>\n",
              "      <td>0</td>\n",
              "      <td>0</td>\n",
              "      <td>1</td>\n",
              "      <td>0</td>\n",
              "      <td>0</td>\n",
              "      <td>0</td>\n",
              "      <td>1</td>\n",
              "      <td>0</td>\n",
              "      <td>0</td>\n",
              "      <td>1</td>\n",
              "      <td>0</td>\n",
              "      <td>0</td>\n",
              "      <td>0</td>\n",
              "      <td>16.658885</td>\n",
              "    </tr>\n",
              "    <tr>\n",
              "      <th>4</th>\n",
              "      <td>2012-12-01 21:12:12</td>\n",
              "      <td>-73.966046</td>\n",
              "      <td>40.789775</td>\n",
              "      <td>-73.988565</td>\n",
              "      <td>40.744427</td>\n",
              "      <td>1</td>\n",
              "      <td>[-73.96604599999999, 40.789775]</td>\n",
              "      <td>[-73.98856500000001, 40.744427]</td>\n",
              "      <td>2.875803</td>\n",
              "      <td>1</td>\n",
              "      <td>21</td>\n",
              "      <td>0</td>\n",
              "      <td>0</td>\n",
              "      <td>0</td>\n",
              "      <td>1</td>\n",
              "      <td>0</td>\n",
              "      <td>0</td>\n",
              "      <td>0</td>\n",
              "      <td>0</td>\n",
              "      <td>0</td>\n",
              "      <td>0</td>\n",
              "      <td>0</td>\n",
              "      <td>0</td>\n",
              "      <td>0</td>\n",
              "      <td>0</td>\n",
              "      <td>0</td>\n",
              "      <td>0</td>\n",
              "      <td>0</td>\n",
              "      <td>0</td>\n",
              "      <td>1</td>\n",
              "      <td>0</td>\n",
              "      <td>0</td>\n",
              "      <td>0</td>\n",
              "      <td>0</td>\n",
              "      <td>0</td>\n",
              "      <td>1</td>\n",
              "      <td>0</td>\n",
              "      <td>0</td>\n",
              "      <td>0</td>\n",
              "      <td>1</td>\n",
              "      <td>0</td>\n",
              "      <td>0</td>\n",
              "      <td>1</td>\n",
              "      <td>0</td>\n",
              "      <td>0</td>\n",
              "      <td>0</td>\n",
              "      <td>43.842657</td>\n",
              "    </tr>\n",
              "  </tbody>\n",
              "</table>\n",
              "</div>"
            ],
            "text/plain": [
              "      pickup_datetime  pickup_longitude  ...  Week_Number_4th_Week  fare_amount\n",
              "0 2015-01-27 13:08:24        -73.973320  ...                     1    22.347187\n",
              "1 2015-01-27 13:08:24        -73.986862  ...                     1    48.371515\n",
              "2 2011-10-08 11:53:44        -73.982524  ...                     0     5.646525\n",
              "3 2012-12-01 21:12:12        -73.981160  ...                     0    16.658885\n",
              "4 2012-12-01 21:12:12        -73.966046  ...                     0    43.842657\n",
              "\n",
              "[5 rows x 47 columns]"
            ]
          },
          "metadata": {
            "tags": []
          },
          "execution_count": 733
        }
      ]
    },
    {
      "cell_type": "markdown",
      "metadata": {
        "id": "8DCV7TvufUJT",
        "colab_type": "text"
      },
      "source": [
        "Model Evaluation with Learning Curve"
      ]
    },
    {
      "cell_type": "code",
      "metadata": {
        "id": "Kg81CZAyfUJe",
        "colab_type": "code",
        "colab": {
          "base_uri": "https://localhost:8080/",
          "height": 410
        },
        "outputId": "63ab42cd-72bd-4abf-b120-318be84a5e85"
      },
      "source": [
        "from sklearn.model_selection import learning_curve\n",
        "\n",
        "train_sizes = [1, 500, 2000, 5000, 8000, 12192]\n",
        "#for i in models:\n",
        "   # print (model[i])\n",
        "    \n",
        "train_sizes, train_scores, validation_scores = learning_curve(\n",
        "    estimator = rfr,\n",
        "    X = X_train,\n",
        "    y = y_train, train_sizes = train_sizes, cv = 5,scoring = 'neg_mean_absolute_error')\n",
        "    \n",
        "train_scores_mean = -train_scores.mean(axis = 1)\n",
        "validation_scores_mean = -validation_scores.mean(axis = 1)\n",
        "    \n",
        "plt.style.use('seaborn')\n",
        "plt.plot(train_sizes, train_scores_mean, label = 'Training error of Random Forest')\n",
        "plt.plot(train_sizes, validation_scores_mean, label = 'Validation error of Random Forest')\n",
        "plt.ylabel('MEA', fontsize = 14)\n",
        "plt.xlabel('Training set size', fontsize = 14)\n",
        "plt.title('Learning curves for the Random Forest', fontsize = 18, y = 1.03)\n",
        "plt.legend()"
      ],
      "execution_count": 738,
      "outputs": [
        {
          "output_type": "execute_result",
          "data": {
            "text/plain": [
              "<matplotlib.legend.Legend at 0x7f0b4b84bdd8>"
            ]
          },
          "metadata": {
            "tags": []
          },
          "execution_count": 738
        },
        {
          "output_type": "display_data",
          "data": {
            "image/png": "[encoded data removed]",
            "text/plain": [
              "<Figure size 576x396 with 1 Axes>"
            ]
          },
          "metadata": {
            "tags": []
          }
        }
      ]
    },
    {
      "cell_type": "markdown",
      "metadata": {
        "id": "td6aLNBucQOh",
        "colab_type": "text"
      },
      "source": [
        "The error in training set increase as the error in validation set decreases. This is the case with a little high bias and low variance as the training error is little high. The Variance is estimated by examining the gap between the validation learning curve and training learning curve. A narrow gap indicates low variance"
      ]
    },
    {
      "cell_type": "code",
      "metadata": {
        "id": "MqYGoGtOfUKB",
        "colab_type": "code",
        "colab": {}
      },
      "source": [
        ""
      ],
      "execution_count": null,
      "outputs": []
    },
    {
      "cell_type": "code",
      "metadata": {
        "id": "18qwKUv0fUKE",
        "colab_type": "code",
        "colab": {}
      },
      "source": [
        ""
      ],
      "execution_count": null,
      "outputs": []
    }
  ]
}